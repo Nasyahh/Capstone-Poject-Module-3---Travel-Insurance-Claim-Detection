{
 "cells": [
  {
   "cell_type": "markdown",
   "id": "c3340a81",
   "metadata": {},
   "source": [
    "# Travel Insurance Claim Detection System\n",
    "### Created By : Erike Nasyah Herman"
   ]
  },
  {
   "cell_type": "markdown",
   "id": "514dfbcb",
   "metadata": {},
   "source": [
    "## Business Problem Understanding"
   ]
  },
  {
   "cell_type": "markdown",
   "id": "242f08aa",
   "metadata": {},
   "source": [
    "**Context**  \n",
    "Asuransi perjalanan adalah salah satu jenis asuransi yang memberikan perlindungan selama kita melakukan perjalanan baik dalam maupun luar negeri. Beberapa negara di dunia bahkan sudah mewajibkan traveller atau para pendatang untuk memiliki asuransi perjalanan, misalnya negara-negara di Eropa dan Amerika. Besaran premi tergantung pertanggungan yang diinginkan, lama perjalanan dan tujuan perjalanan.\n",
    "Sebuah perusahaan yang bergerak di bidang Asuransi Perjalanan ingin mengetahui pemegang polis yang akan mengajukan klaim asuransi atas pertanggungan. Data pemegang polis di perusahaan asuransi merupakan data historis, terdiri dari destinasi, produk asuransi, dan sebagainya."
   ]
  },
  {
   "cell_type": "markdown",
   "id": "0134f9f4",
   "metadata": {},
   "source": [
    "**Problem Statement :**\n",
    "\n",
    "Perusahaan asuransi perlu memprediksi dengan tepat pemegang polis yang akan klaim baik tepat di jatuh tempo polis dan sebelum jatuh tempo. Prediksi klaim yang tepat akan membuat perusahaan menyiapkan dana dengan besaran yang tepat.\n",
    "- Jika perusahaan tidak mampu menyiapkan dana untuk proses pengajuan klaim, menyebabkan menurunnya kredibilitas perusahaan di masyarakat dan berdampak pada penjualan produk di masa depan.\n",
    "- Jika perusahaan hanya menyiapkan dana saja di setiap waktu padahal tidak tentu terpakai untuk klaim nasabah, maka dana tersebut tergolong *idle cash* yang merugikan karena akan tergerus inflasi dan tidak menjadi instrumen investasi sehingga menyebabkan *opportunity loss*\n",
    "\n",
    "\n",
    "**Goals :**\n",
    "\n",
    "Maka berdasarkan permasalahan tersebut, perusahaan ingin memiliki kemampuan untuk memprediksi kemungkinan seorang pemegang polis  akan mengajukan klaim asuransi dengan data riwayatnya. Perusahaan ingin mengetahui faktor apa yang membuat seorang pemegang polis akan mengajukan klaim, sehingga perusahaan dapat membuat rencana yang lebih baik dalam memahami kebutuhan pemegang polis asuransi.\n",
    "\n",
    "**Analytic Approach :**\n",
    "\n",
    "Jadi yang akan kita lakukan adalah menganalisis data untuk menemukan pola yang membedakan pemegang polis yang mengajukan klaim dan yang tidak mengajukan klaim. Kemudian kita akan membangun model deteksi yang akan membantu perusahaan untuk dapat memprediksi probabilitas seorang pemegang polis akan mengajukan klaim asuransi atau tidak"
   ]
  },
  {
   "cell_type": "markdown",
   "id": "ac271e6f",
   "metadata": {},
   "source": [
    "**Metric Evaluation**"
   ]
  },
  {
   "cell_type": "markdown",
   "id": "72809136",
   "metadata": {},
   "source": [
    "<img src='matrix.jpeg'>"
   ]
  },
  {
   "cell_type": "markdown",
   "id": "adf2b26c",
   "metadata": {},
   "source": [
    "Type 1 error : False Positive  \n",
    "Konsekuensi: Persiapan dana pencairan akan sia-sia karena tidak tepat sasaran dan tidak tepat jumlah, menjadi idle cash\n",
    "\n",
    "Type 2 error : False Negative  \n",
    "Konsekuensi: Tidak ada dana pencairan yang disiapkan dan menghambat proses klaim pemegang polis\n",
    "\n",
    "Berdasarkan konsekuensinya, maka sebisa mungkin yang akan kita lakukan adalah membuat model deteksi yang dapat mencegah False Positive dan False Negative. Jadi harus diseimbangkan antara precision dan recallnya dari kelas positive (potential claim) sehingga metric utama yang akan digunakan adalah roc_auc."
   ]
  },
  {
   "cell_type": "markdown",
   "id": "ed1d9a86",
   "metadata": {},
   "source": [
    "## Data Understanding"
   ]
  },
  {
   "cell_type": "markdown",
   "id": "8fd4d817",
   "metadata": {},
   "source": [
    "Dataset source : [Data Travel Insurance](https://drive.google.com/file/d/1emDTGFvku7UuuVT3W-EmEvg3i61QrIU-/view)"
   ]
  },
  {
   "cell_type": "markdown",
   "id": "f198d1f4",
   "metadata": {},
   "source": [
    "Note : \n",
    "- Dataset tidak seimbang\n",
    "- Terdapat fitur-fitur bersifat kategori dan numerik\n",
    "- Setiap baris data merepresentasikan informasi seorang pemegang polis dengan data riwayat perjalanan"
   ]
  },
  {
   "cell_type": "code",
   "execution_count": 2,
   "id": "292ec226",
   "metadata": {},
   "outputs": [],
   "source": [
    "import numpy as np\n",
    "import pandas as pd\n",
    "import matplotlib.pyplot as plt\n",
    "import seaborn as sns\n",
    "import warnings\n",
    "warnings.filterwarnings('ignore')"
   ]
  },
  {
   "cell_type": "code",
   "execution_count": 3,
   "id": "d3eada5e",
   "metadata": {
    "scrolled": true
   },
   "outputs": [
    {
     "data": {
      "text/html": [
       "<div>\n",
       "<style scoped>\n",
       "    .dataframe tbody tr th:only-of-type {\n",
       "        vertical-align: middle;\n",
       "    }\n",
       "\n",
       "    .dataframe tbody tr th {\n",
       "        vertical-align: top;\n",
       "    }\n",
       "\n",
       "    .dataframe thead th {\n",
       "        text-align: right;\n",
       "    }\n",
       "</style>\n",
       "<table border=\"1\" class=\"dataframe\">\n",
       "  <thead>\n",
       "    <tr style=\"text-align: right;\">\n",
       "      <th></th>\n",
       "      <th>Agency</th>\n",
       "      <th>Agency Type</th>\n",
       "      <th>Distribution Channel</th>\n",
       "      <th>Product Name</th>\n",
       "      <th>Gender</th>\n",
       "      <th>Duration</th>\n",
       "      <th>Destination</th>\n",
       "      <th>Net Sales</th>\n",
       "      <th>Commision (in value)</th>\n",
       "      <th>Age</th>\n",
       "      <th>Claim</th>\n",
       "    </tr>\n",
       "  </thead>\n",
       "  <tbody>\n",
       "    <tr>\n",
       "      <th>0</th>\n",
       "      <td>C2B</td>\n",
       "      <td>Airlines</td>\n",
       "      <td>Online</td>\n",
       "      <td>Annual Silver Plan</td>\n",
       "      <td>F</td>\n",
       "      <td>365</td>\n",
       "      <td>SINGAPORE</td>\n",
       "      <td>216.0</td>\n",
       "      <td>54.0</td>\n",
       "      <td>57</td>\n",
       "      <td>No</td>\n",
       "    </tr>\n",
       "    <tr>\n",
       "      <th>1</th>\n",
       "      <td>EPX</td>\n",
       "      <td>Travel Agency</td>\n",
       "      <td>Online</td>\n",
       "      <td>Cancellation Plan</td>\n",
       "      <td>NaN</td>\n",
       "      <td>4</td>\n",
       "      <td>MALAYSIA</td>\n",
       "      <td>10.0</td>\n",
       "      <td>0.0</td>\n",
       "      <td>33</td>\n",
       "      <td>No</td>\n",
       "    </tr>\n",
       "    <tr>\n",
       "      <th>2</th>\n",
       "      <td>JZI</td>\n",
       "      <td>Airlines</td>\n",
       "      <td>Online</td>\n",
       "      <td>Basic Plan</td>\n",
       "      <td>M</td>\n",
       "      <td>19</td>\n",
       "      <td>INDIA</td>\n",
       "      <td>22.0</td>\n",
       "      <td>7.7</td>\n",
       "      <td>26</td>\n",
       "      <td>No</td>\n",
       "    </tr>\n",
       "    <tr>\n",
       "      <th>3</th>\n",
       "      <td>EPX</td>\n",
       "      <td>Travel Agency</td>\n",
       "      <td>Online</td>\n",
       "      <td>2 way Comprehensive Plan</td>\n",
       "      <td>NaN</td>\n",
       "      <td>20</td>\n",
       "      <td>UNITED STATES</td>\n",
       "      <td>112.0</td>\n",
       "      <td>0.0</td>\n",
       "      <td>59</td>\n",
       "      <td>No</td>\n",
       "    </tr>\n",
       "    <tr>\n",
       "      <th>4</th>\n",
       "      <td>C2B</td>\n",
       "      <td>Airlines</td>\n",
       "      <td>Online</td>\n",
       "      <td>Bronze Plan</td>\n",
       "      <td>M</td>\n",
       "      <td>8</td>\n",
       "      <td>SINGAPORE</td>\n",
       "      <td>16.0</td>\n",
       "      <td>4.0</td>\n",
       "      <td>28</td>\n",
       "      <td>No</td>\n",
       "    </tr>\n",
       "  </tbody>\n",
       "</table>\n",
       "</div>"
      ],
      "text/plain": [
       "  Agency    Agency Type Distribution Channel              Product Name Gender  \\\n",
       "0    C2B       Airlines               Online        Annual Silver Plan      F   \n",
       "1    EPX  Travel Agency               Online         Cancellation Plan    NaN   \n",
       "2    JZI       Airlines               Online                Basic Plan      M   \n",
       "3    EPX  Travel Agency               Online  2 way Comprehensive Plan    NaN   \n",
       "4    C2B       Airlines               Online               Bronze Plan      M   \n",
       "\n",
       "   Duration    Destination  Net Sales  Commision (in value)  Age Claim  \n",
       "0       365      SINGAPORE      216.0                  54.0   57    No  \n",
       "1         4       MALAYSIA       10.0                   0.0   33    No  \n",
       "2        19          INDIA       22.0                   7.7   26    No  \n",
       "3        20  UNITED STATES      112.0                   0.0   59    No  \n",
       "4         8      SINGAPORE       16.0                   4.0   28    No  "
      ]
     },
     "execution_count": 3,
     "metadata": {},
     "output_type": "execute_result"
    }
   ],
   "source": [
    "df = pd.read_csv('data_travel_insurance.csv')\n",
    "df.head()"
   ]
  },
  {
   "cell_type": "code",
   "execution_count": 4,
   "id": "112a4824",
   "metadata": {
    "scrolled": true
   },
   "outputs": [
    {
     "data": {
      "text/plain": [
       "(44328, 11)"
      ]
     },
     "execution_count": 4,
     "metadata": {},
     "output_type": "execute_result"
    }
   ],
   "source": [
    "df.shape"
   ]
  },
  {
   "cell_type": "markdown",
   "id": "4a2ff055",
   "metadata": {},
   "source": [
    "Data terdiri dari 44328 baris dan 11 kolom"
   ]
  },
  {
   "cell_type": "code",
   "execution_count": 5,
   "id": "eb944728",
   "metadata": {
    "scrolled": true
   },
   "outputs": [
    {
     "name": "stdout",
     "output_type": "stream",
     "text": [
      "<class 'pandas.core.frame.DataFrame'>\n",
      "RangeIndex: 44328 entries, 0 to 44327\n",
      "Data columns (total 11 columns):\n",
      " #   Column                Non-Null Count  Dtype  \n",
      "---  ------                --------------  -----  \n",
      " 0   Agency                44328 non-null  object \n",
      " 1   Agency Type           44328 non-null  object \n",
      " 2   Distribution Channel  44328 non-null  object \n",
      " 3   Product Name          44328 non-null  object \n",
      " 4   Gender                12681 non-null  object \n",
      " 5   Duration              44328 non-null  int64  \n",
      " 6   Destination           44328 non-null  object \n",
      " 7   Net Sales             44328 non-null  float64\n",
      " 8   Commision (in value)  44328 non-null  float64\n",
      " 9   Age                   44328 non-null  int64  \n",
      " 10  Claim                 44328 non-null  object \n",
      "dtypes: float64(2), int64(2), object(7)\n",
      "memory usage: 3.7+ MB\n"
     ]
    }
   ],
   "source": [
    "df.info()"
   ]
  },
  {
   "cell_type": "code",
   "execution_count": 6,
   "id": "767e675d",
   "metadata": {
    "scrolled": true
   },
   "outputs": [
    {
     "data": {
      "text/plain": [
       "Agency                      0\n",
       "Agency Type                 0\n",
       "Distribution Channel        0\n",
       "Product Name                0\n",
       "Gender                  31647\n",
       "Duration                    0\n",
       "Destination                 0\n",
       "Net Sales                   0\n",
       "Commision (in value)        0\n",
       "Age                         0\n",
       "Claim                       0\n",
       "dtype: int64"
      ]
     },
     "execution_count": 6,
     "metadata": {},
     "output_type": "execute_result"
    }
   ],
   "source": [
    "df.isna().sum()"
   ]
  },
  {
   "cell_type": "markdown",
   "id": "89ab14f0",
   "metadata": {},
   "source": [
    "Dari semua kolom yang ada hanya kolom `Gender` yang memiliki data NaN sebanyak 31647."
   ]
  },
  {
   "cell_type": "code",
   "execution_count": 7,
   "id": "60470b6d",
   "metadata": {},
   "outputs": [
    {
     "data": {
      "text/html": [
       "<div>\n",
       "<style scoped>\n",
       "    .dataframe tbody tr th:only-of-type {\n",
       "        vertical-align: middle;\n",
       "    }\n",
       "\n",
       "    .dataframe tbody tr th {\n",
       "        vertical-align: top;\n",
       "    }\n",
       "\n",
       "    .dataframe thead th {\n",
       "        text-align: right;\n",
       "    }\n",
       "</style>\n",
       "<table border=\"1\" class=\"dataframe\">\n",
       "  <thead>\n",
       "    <tr style=\"text-align: right;\">\n",
       "      <th></th>\n",
       "      <th>Data Features</th>\n",
       "      <th>Data Types</th>\n",
       "      <th>Null</th>\n",
       "      <th>Null Percentage</th>\n",
       "      <th>Unique</th>\n",
       "      <th>Unique Sample</th>\n",
       "    </tr>\n",
       "  </thead>\n",
       "  <tbody>\n",
       "    <tr>\n",
       "      <th>0</th>\n",
       "      <td>Agency</td>\n",
       "      <td>object</td>\n",
       "      <td>0</td>\n",
       "      <td>0.00</td>\n",
       "      <td>16</td>\n",
       "      <td>[EPX, CSR]</td>\n",
       "    </tr>\n",
       "    <tr>\n",
       "      <th>1</th>\n",
       "      <td>Agency Type</td>\n",
       "      <td>object</td>\n",
       "      <td>0</td>\n",
       "      <td>0.00</td>\n",
       "      <td>2</td>\n",
       "      <td>[Travel Agency, Airlines]</td>\n",
       "    </tr>\n",
       "    <tr>\n",
       "      <th>2</th>\n",
       "      <td>Distribution Channel</td>\n",
       "      <td>object</td>\n",
       "      <td>0</td>\n",
       "      <td>0.00</td>\n",
       "      <td>2</td>\n",
       "      <td>[Offline, Online]</td>\n",
       "    </tr>\n",
       "    <tr>\n",
       "      <th>3</th>\n",
       "      <td>Product Name</td>\n",
       "      <td>object</td>\n",
       "      <td>0</td>\n",
       "      <td>0.00</td>\n",
       "      <td>26</td>\n",
       "      <td>[Child Comprehensive Plan, Annual Gold Plan]</td>\n",
       "    </tr>\n",
       "    <tr>\n",
       "      <th>4</th>\n",
       "      <td>Gender</td>\n",
       "      <td>object</td>\n",
       "      <td>31647</td>\n",
       "      <td>71.39</td>\n",
       "      <td>2</td>\n",
       "      <td>[F, nan]</td>\n",
       "    </tr>\n",
       "    <tr>\n",
       "      <th>5</th>\n",
       "      <td>Duration</td>\n",
       "      <td>int64</td>\n",
       "      <td>0</td>\n",
       "      <td>0.00</td>\n",
       "      <td>437</td>\n",
       "      <td>[290, 23]</td>\n",
       "    </tr>\n",
       "    <tr>\n",
       "      <th>6</th>\n",
       "      <td>Destination</td>\n",
       "      <td>object</td>\n",
       "      <td>0</td>\n",
       "      <td>0.00</td>\n",
       "      <td>138</td>\n",
       "      <td>[THAILAND, MALDIVES]</td>\n",
       "    </tr>\n",
       "    <tr>\n",
       "      <th>7</th>\n",
       "      <td>Net Sales</td>\n",
       "      <td>float64</td>\n",
       "      <td>0</td>\n",
       "      <td>0.00</td>\n",
       "      <td>1006</td>\n",
       "      <td>[14.4, 206.0]</td>\n",
       "    </tr>\n",
       "    <tr>\n",
       "      <th>8</th>\n",
       "      <td>Commision (in value)</td>\n",
       "      <td>float64</td>\n",
       "      <td>0</td>\n",
       "      <td>0.00</td>\n",
       "      <td>915</td>\n",
       "      <td>[8.99, 28.35]</td>\n",
       "    </tr>\n",
       "    <tr>\n",
       "      <th>9</th>\n",
       "      <td>Age</td>\n",
       "      <td>int64</td>\n",
       "      <td>0</td>\n",
       "      <td>0.00</td>\n",
       "      <td>89</td>\n",
       "      <td>[86, 67]</td>\n",
       "    </tr>\n",
       "    <tr>\n",
       "      <th>10</th>\n",
       "      <td>Claim</td>\n",
       "      <td>object</td>\n",
       "      <td>0</td>\n",
       "      <td>0.00</td>\n",
       "      <td>2</td>\n",
       "      <td>[Yes, No]</td>\n",
       "    </tr>\n",
       "  </tbody>\n",
       "</table>\n",
       "</div>"
      ],
      "text/plain": [
       "           Data Features Data Types   Null  Null Percentage  Unique  \\\n",
       "0                 Agency     object      0             0.00      16   \n",
       "1            Agency Type     object      0             0.00       2   \n",
       "2   Distribution Channel     object      0             0.00       2   \n",
       "3           Product Name     object      0             0.00      26   \n",
       "4                 Gender     object  31647            71.39       2   \n",
       "5               Duration      int64      0             0.00     437   \n",
       "6            Destination     object      0             0.00     138   \n",
       "7              Net Sales    float64      0             0.00    1006   \n",
       "8   Commision (in value)    float64      0             0.00     915   \n",
       "9                    Age      int64      0             0.00      89   \n",
       "10                 Claim     object      0             0.00       2   \n",
       "\n",
       "                                   Unique Sample  \n",
       "0                                     [EPX, CSR]  \n",
       "1                      [Travel Agency, Airlines]  \n",
       "2                              [Offline, Online]  \n",
       "3   [Child Comprehensive Plan, Annual Gold Plan]  \n",
       "4                                       [F, nan]  \n",
       "5                                      [290, 23]  \n",
       "6                           [THAILAND, MALDIVES]  \n",
       "7                                  [14.4, 206.0]  \n",
       "8                                  [8.99, 28.35]  \n",
       "9                                       [86, 67]  \n",
       "10                                     [Yes, No]  "
      ]
     },
     "execution_count": 7,
     "metadata": {},
     "output_type": "execute_result"
    }
   ],
   "source": [
    "dataDesc=[]\n",
    "for i in df.columns:\n",
    "    dataDesc.append([\n",
    "        i,\n",
    "        df[i].dtypes,\n",
    "        df[i].isna().sum(),\n",
    "        round((((df[i].isna().sum())/len(df))*100),2),\n",
    "        df[i].nunique(),\n",
    "        df[i].drop_duplicates().sample(2).values\n",
    "    ])\n",
    "\n",
    "pd.DataFrame(dataDesc, columns=[\n",
    "    'Data Features',\n",
    "    'Data Types',\n",
    "    'Null',\n",
    "    'Null Percentage',\n",
    "    'Unique',\n",
    "    'Unique Sample'\n",
    "])"
   ]
  },
  {
   "cell_type": "code",
   "execution_count": 8,
   "id": "4353764f",
   "metadata": {
    "scrolled": true
   },
   "outputs": [
    {
     "data": {
      "text/plain": [
       "array(['F', nan, 'M'], dtype=object)"
      ]
     },
     "execution_count": 8,
     "metadata": {},
     "output_type": "execute_result"
    }
   ],
   "source": [
    "df['Gender'].unique()"
   ]
  },
  {
   "cell_type": "markdown",
   "id": "fbca1503",
   "metadata": {},
   "source": [
    "71.39% data dalam kolom `Gender` memiliki nilai NaN, sehingga kolom `Gender` ini akan didrop."
   ]
  },
  {
   "cell_type": "code",
   "execution_count": 9,
   "id": "4b17de09",
   "metadata": {
    "scrolled": true
   },
   "outputs": [
    {
     "data": {
      "text/html": [
       "<div>\n",
       "<style scoped>\n",
       "    .dataframe tbody tr th:only-of-type {\n",
       "        vertical-align: middle;\n",
       "    }\n",
       "\n",
       "    .dataframe tbody tr th {\n",
       "        vertical-align: top;\n",
       "    }\n",
       "\n",
       "    .dataframe thead th {\n",
       "        text-align: right;\n",
       "    }\n",
       "</style>\n",
       "<table border=\"1\" class=\"dataframe\">\n",
       "  <thead>\n",
       "    <tr style=\"text-align: right;\">\n",
       "      <th></th>\n",
       "      <th>Agency</th>\n",
       "      <th>Agency Type</th>\n",
       "      <th>Distribution Channel</th>\n",
       "      <th>Product Name</th>\n",
       "      <th>Duration</th>\n",
       "      <th>Destination</th>\n",
       "      <th>Net Sales</th>\n",
       "      <th>Commision (in value)</th>\n",
       "      <th>Age</th>\n",
       "      <th>Claim</th>\n",
       "    </tr>\n",
       "  </thead>\n",
       "  <tbody>\n",
       "    <tr>\n",
       "      <th>0</th>\n",
       "      <td>C2B</td>\n",
       "      <td>Airlines</td>\n",
       "      <td>Online</td>\n",
       "      <td>Annual Silver Plan</td>\n",
       "      <td>365</td>\n",
       "      <td>SINGAPORE</td>\n",
       "      <td>216.0</td>\n",
       "      <td>54.0</td>\n",
       "      <td>57</td>\n",
       "      <td>No</td>\n",
       "    </tr>\n",
       "    <tr>\n",
       "      <th>1</th>\n",
       "      <td>EPX</td>\n",
       "      <td>Travel Agency</td>\n",
       "      <td>Online</td>\n",
       "      <td>Cancellation Plan</td>\n",
       "      <td>4</td>\n",
       "      <td>MALAYSIA</td>\n",
       "      <td>10.0</td>\n",
       "      <td>0.0</td>\n",
       "      <td>33</td>\n",
       "      <td>No</td>\n",
       "    </tr>\n",
       "    <tr>\n",
       "      <th>2</th>\n",
       "      <td>JZI</td>\n",
       "      <td>Airlines</td>\n",
       "      <td>Online</td>\n",
       "      <td>Basic Plan</td>\n",
       "      <td>19</td>\n",
       "      <td>INDIA</td>\n",
       "      <td>22.0</td>\n",
       "      <td>7.7</td>\n",
       "      <td>26</td>\n",
       "      <td>No</td>\n",
       "    </tr>\n",
       "    <tr>\n",
       "      <th>3</th>\n",
       "      <td>EPX</td>\n",
       "      <td>Travel Agency</td>\n",
       "      <td>Online</td>\n",
       "      <td>2 way Comprehensive Plan</td>\n",
       "      <td>20</td>\n",
       "      <td>UNITED STATES</td>\n",
       "      <td>112.0</td>\n",
       "      <td>0.0</td>\n",
       "      <td>59</td>\n",
       "      <td>No</td>\n",
       "    </tr>\n",
       "    <tr>\n",
       "      <th>4</th>\n",
       "      <td>C2B</td>\n",
       "      <td>Airlines</td>\n",
       "      <td>Online</td>\n",
       "      <td>Bronze Plan</td>\n",
       "      <td>8</td>\n",
       "      <td>SINGAPORE</td>\n",
       "      <td>16.0</td>\n",
       "      <td>4.0</td>\n",
       "      <td>28</td>\n",
       "      <td>No</td>\n",
       "    </tr>\n",
       "  </tbody>\n",
       "</table>\n",
       "</div>"
      ],
      "text/plain": [
       "  Agency    Agency Type Distribution Channel              Product Name  \\\n",
       "0    C2B       Airlines               Online        Annual Silver Plan   \n",
       "1    EPX  Travel Agency               Online         Cancellation Plan   \n",
       "2    JZI       Airlines               Online                Basic Plan   \n",
       "3    EPX  Travel Agency               Online  2 way Comprehensive Plan   \n",
       "4    C2B       Airlines               Online               Bronze Plan   \n",
       "\n",
       "   Duration    Destination  Net Sales  Commision (in value)  Age Claim  \n",
       "0       365      SINGAPORE      216.0                  54.0   57    No  \n",
       "1         4       MALAYSIA       10.0                   0.0   33    No  \n",
       "2        19          INDIA       22.0                   7.7   26    No  \n",
       "3        20  UNITED STATES      112.0                   0.0   59    No  \n",
       "4         8      SINGAPORE       16.0                   4.0   28    No  "
      ]
     },
     "execution_count": 9,
     "metadata": {},
     "output_type": "execute_result"
    }
   ],
   "source": [
    "df = df.drop('Gender', axis=1)\n",
    "df.head()"
   ]
  },
  {
   "cell_type": "code",
   "execution_count": 10,
   "id": "a43fd21b",
   "metadata": {
    "scrolled": true
   },
   "outputs": [
    {
     "data": {
      "text/html": [
       "<div>\n",
       "<style scoped>\n",
       "    .dataframe tbody tr th:only-of-type {\n",
       "        vertical-align: middle;\n",
       "    }\n",
       "\n",
       "    .dataframe tbody tr th {\n",
       "        vertical-align: top;\n",
       "    }\n",
       "\n",
       "    .dataframe thead th {\n",
       "        text-align: right;\n",
       "    }\n",
       "</style>\n",
       "<table border=\"1\" class=\"dataframe\">\n",
       "  <thead>\n",
       "    <tr style=\"text-align: right;\">\n",
       "      <th></th>\n",
       "      <th>count</th>\n",
       "      <th>mean</th>\n",
       "      <th>std</th>\n",
       "      <th>min</th>\n",
       "      <th>25%</th>\n",
       "      <th>50%</th>\n",
       "      <th>75%</th>\n",
       "      <th>max</th>\n",
       "    </tr>\n",
       "  </thead>\n",
       "  <tbody>\n",
       "    <tr>\n",
       "      <th>Duration</th>\n",
       "      <td>44328.0</td>\n",
       "      <td>49.424292</td>\n",
       "      <td>109.153961</td>\n",
       "      <td>-1.0</td>\n",
       "      <td>9.0</td>\n",
       "      <td>22.0</td>\n",
       "      <td>53.00</td>\n",
       "      <td>4881.0</td>\n",
       "    </tr>\n",
       "    <tr>\n",
       "      <th>Net Sales</th>\n",
       "      <td>44328.0</td>\n",
       "      <td>40.550948</td>\n",
       "      <td>48.661970</td>\n",
       "      <td>-357.5</td>\n",
       "      <td>18.0</td>\n",
       "      <td>26.5</td>\n",
       "      <td>48.00</td>\n",
       "      <td>810.0</td>\n",
       "    </tr>\n",
       "    <tr>\n",
       "      <th>Commision (in value)</th>\n",
       "      <td>44328.0</td>\n",
       "      <td>9.707692</td>\n",
       "      <td>19.625637</td>\n",
       "      <td>0.0</td>\n",
       "      <td>0.0</td>\n",
       "      <td>0.0</td>\n",
       "      <td>11.55</td>\n",
       "      <td>283.5</td>\n",
       "    </tr>\n",
       "    <tr>\n",
       "      <th>Age</th>\n",
       "      <td>44328.0</td>\n",
       "      <td>39.925600</td>\n",
       "      <td>13.954926</td>\n",
       "      <td>0.0</td>\n",
       "      <td>35.0</td>\n",
       "      <td>36.0</td>\n",
       "      <td>43.00</td>\n",
       "      <td>118.0</td>\n",
       "    </tr>\n",
       "  </tbody>\n",
       "</table>\n",
       "</div>"
      ],
      "text/plain": [
       "                        count       mean         std    min   25%   50%  \\\n",
       "Duration              44328.0  49.424292  109.153961   -1.0   9.0  22.0   \n",
       "Net Sales             44328.0  40.550948   48.661970 -357.5  18.0  26.5   \n",
       "Commision (in value)  44328.0   9.707692   19.625637    0.0   0.0   0.0   \n",
       "Age                   44328.0  39.925600   13.954926    0.0  35.0  36.0   \n",
       "\n",
       "                        75%     max  \n",
       "Duration              53.00  4881.0  \n",
       "Net Sales             48.00   810.0  \n",
       "Commision (in value)  11.55   283.5  \n",
       "Age                   43.00   118.0  "
      ]
     },
     "execution_count": 10,
     "metadata": {},
     "output_type": "execute_result"
    }
   ],
   "source": [
    "df.describe().T"
   ]
  },
  {
   "cell_type": "code",
   "execution_count": 11,
   "id": "1d402ee3",
   "metadata": {
    "scrolled": false
   },
   "outputs": [
    {
     "data": {
      "text/plain": [
       "Index(['Agency', 'Agency Type', 'Distribution Channel', 'Product Name',\n",
       "       'Duration', 'Destination', 'Net Sales', 'Commision (in value)', 'Age',\n",
       "       'Claim'],\n",
       "      dtype='object')"
      ]
     },
     "execution_count": 11,
     "metadata": {},
     "output_type": "execute_result"
    }
   ],
   "source": [
    "df.columns"
   ]
  },
  {
   "cell_type": "code",
   "execution_count": 12,
   "id": "edea4cda",
   "metadata": {
    "scrolled": true
   },
   "outputs": [
    {
     "data": {
      "text/plain": [
       "array(['No', 'Yes'], dtype=object)"
      ]
     },
     "execution_count": 12,
     "metadata": {},
     "output_type": "execute_result"
    }
   ],
   "source": [
    "df['Claim'].unique()"
   ]
  },
  {
   "cell_type": "markdown",
   "id": "a05ce4be",
   "metadata": {},
   "source": [
    "Kolom Target `Claim`:\n",
    "- No : 0\n",
    "- Yes : 1\n",
    "\n",
    "Kolom Independen Kategorikal:\n",
    "- Agency\n",
    "- Agency Type\n",
    "- Distribution Channel\n",
    "- Product Name\n",
    "- Destination\n",
    "\n",
    "Kolom Independen Numerikal:\n",
    "- Duration\n",
    "- Net Sales\n",
    "- Commision (in Value)\n",
    "- Age"
   ]
  },
  {
   "cell_type": "markdown",
   "id": "55cc5f08",
   "metadata": {},
   "source": [
    "### 1. Konversi Kolom Target dari tipe Teks ke Numerik"
   ]
  },
  {
   "cell_type": "code",
   "execution_count": 13,
   "id": "bc4e3389",
   "metadata": {},
   "outputs": [],
   "source": [
    "df['Claim'] = df['Claim'].map({\n",
    "    'No' : 0,\n",
    "    'Yes' : 1\n",
    "})"
   ]
  },
  {
   "cell_type": "code",
   "execution_count": 14,
   "id": "a3f3d4b4",
   "metadata": {
    "scrolled": true
   },
   "outputs": [
    {
     "data": {
      "text/plain": [
       "0    43651\n",
       "1      677\n",
       "Name: Claim, dtype: int64"
      ]
     },
     "execution_count": 14,
     "metadata": {},
     "output_type": "execute_result"
    }
   ],
   "source": [
    "#cek distribusi data target\n",
    "df['Claim'].value_counts()"
   ]
  },
  {
   "cell_type": "markdown",
   "id": "6224e0ef",
   "metadata": {},
   "source": [
    "Distribusi target terlihat timpang dengan kelas 0 sebanyak 43651 dan kelas 1 sebanyak 677. Hal ini menandakan data nasabah Claim jauh lebih sedikit dibanding data nasabah Non Claim"
   ]
  },
  {
   "cell_type": "markdown",
   "id": "3410c59b",
   "metadata": {},
   "source": [
    "### 2. Handling Kolom Kategorikal\n",
    "- Crosstab kolom features kategorikal: `Agency`, `Agency Type`, `Distribution Channel`, `Product Name`, `Destination`\n",
    "untuk mengetahui presentase data unique dalam masing-masing kolom dan pengaruh terhadap Claim asuransi\n",
    "- Recategorize kolom kategorikal yang memiliki banyak unique values dan disesuaikan dengan Claim"
   ]
  },
  {
   "cell_type": "markdown",
   "id": "2ed899fa",
   "metadata": {},
   "source": [
    "#### 2.1 Feature `Agency`"
   ]
  },
  {
   "cell_type": "code",
   "execution_count": 13,
   "id": "64ade915",
   "metadata": {},
   "outputs": [
    {
     "data": {
      "text/html": [
       "<div>\n",
       "<style scoped>\n",
       "    .dataframe tbody tr th:only-of-type {\n",
       "        vertical-align: middle;\n",
       "    }\n",
       "\n",
       "    .dataframe tbody tr th {\n",
       "        vertical-align: top;\n",
       "    }\n",
       "\n",
       "    .dataframe thead th {\n",
       "        text-align: right;\n",
       "    }\n",
       "</style>\n",
       "<table border=\"1\" class=\"dataframe\">\n",
       "  <thead>\n",
       "    <tr style=\"text-align: right;\">\n",
       "      <th>Claim</th>\n",
       "      <th>0</th>\n",
       "      <th>1</th>\n",
       "    </tr>\n",
       "    <tr>\n",
       "      <th>Agency</th>\n",
       "      <th></th>\n",
       "      <th></th>\n",
       "    </tr>\n",
       "  </thead>\n",
       "  <tbody>\n",
       "    <tr>\n",
       "      <th>ADM</th>\n",
       "      <td>0.124</td>\n",
       "      <td>0.000</td>\n",
       "    </tr>\n",
       "    <tr>\n",
       "      <th>ART</th>\n",
       "      <td>0.517</td>\n",
       "      <td>0.000</td>\n",
       "    </tr>\n",
       "    <tr>\n",
       "      <th>C2B</th>\n",
       "      <td>12.060</td>\n",
       "      <td>0.918</td>\n",
       "    </tr>\n",
       "    <tr>\n",
       "      <th>CBH</th>\n",
       "      <td>0.153</td>\n",
       "      <td>0.002</td>\n",
       "    </tr>\n",
       "    <tr>\n",
       "      <th>CCR</th>\n",
       "      <td>0.280</td>\n",
       "      <td>0.005</td>\n",
       "    </tr>\n",
       "    <tr>\n",
       "      <th>CSR</th>\n",
       "      <td>0.151</td>\n",
       "      <td>0.002</td>\n",
       "    </tr>\n",
       "    <tr>\n",
       "      <th>CWT</th>\n",
       "      <td>13.346</td>\n",
       "      <td>0.144</td>\n",
       "    </tr>\n",
       "    <tr>\n",
       "      <th>EPX</th>\n",
       "      <td>55.322</td>\n",
       "      <td>0.300</td>\n",
       "    </tr>\n",
       "    <tr>\n",
       "      <th>JWT</th>\n",
       "      <td>1.169</td>\n",
       "      <td>0.009</td>\n",
       "    </tr>\n",
       "    <tr>\n",
       "      <th>JZI</th>\n",
       "      <td>9.951</td>\n",
       "      <td>0.050</td>\n",
       "    </tr>\n",
       "    <tr>\n",
       "      <th>KML</th>\n",
       "      <td>0.623</td>\n",
       "      <td>0.011</td>\n",
       "    </tr>\n",
       "    <tr>\n",
       "      <th>LWC</th>\n",
       "      <td>0.961</td>\n",
       "      <td>0.065</td>\n",
       "    </tr>\n",
       "    <tr>\n",
       "      <th>RAB</th>\n",
       "      <td>1.155</td>\n",
       "      <td>0.002</td>\n",
       "    </tr>\n",
       "    <tr>\n",
       "      <th>SSI</th>\n",
       "      <td>1.714</td>\n",
       "      <td>0.011</td>\n",
       "    </tr>\n",
       "    <tr>\n",
       "      <th>TST</th>\n",
       "      <td>0.794</td>\n",
       "      <td>0.005</td>\n",
       "    </tr>\n",
       "    <tr>\n",
       "      <th>TTW</th>\n",
       "      <td>0.153</td>\n",
       "      <td>0.002</td>\n",
       "    </tr>\n",
       "  </tbody>\n",
       "</table>\n",
       "</div>"
      ],
      "text/plain": [
       "Claim        0      1\n",
       "Agency               \n",
       "ADM      0.124  0.000\n",
       "ART      0.517  0.000\n",
       "C2B     12.060  0.918\n",
       "CBH      0.153  0.002\n",
       "CCR      0.280  0.005\n",
       "CSR      0.151  0.002\n",
       "CWT     13.346  0.144\n",
       "EPX     55.322  0.300\n",
       "JWT      1.169  0.009\n",
       "JZI      9.951  0.050\n",
       "KML      0.623  0.011\n",
       "LWC      0.961  0.065\n",
       "RAB      1.155  0.002\n",
       "SSI      1.714  0.011\n",
       "TST      0.794  0.005\n",
       "TTW      0.153  0.002"
      ]
     },
     "execution_count": 13,
     "metadata": {},
     "output_type": "execute_result"
    }
   ],
   "source": [
    "(pd.crosstab(index = df['Agency'], columns=df['Claim'], normalize=True)*100).round(3)"
   ]
  },
  {
   "cell_type": "markdown",
   "id": "624f9089",
   "metadata": {},
   "source": [
    "Akan diambil `Agency`: 'C2B', 'CWT', 'EPX', yang mempengaruhi `Claim` kelas 1 sedangkan yang presentasenya kecil akan dikelompokkan menjadi 'Others'"
   ]
  },
  {
   "cell_type": "code",
   "execution_count": 14,
   "id": "6dc50759",
   "metadata": {},
   "outputs": [
    {
     "data": {
      "text/plain": [
       "array(['C2B', 'EPX', 'Others', 'CWT'], dtype=object)"
      ]
     },
     "execution_count": 14,
     "metadata": {},
     "output_type": "execute_result"
    }
   ],
   "source": [
    "#Recategorize kolom Agency\n",
    "def recat_agency(x):\n",
    "    if x in ['C2B', 'CWT', 'EPX']:\n",
    "        return x\n",
    "    else:\n",
    "        return 'Others'\n",
    "df['Agency'] = df['Agency'].apply(recat_agency)\n",
    "df['Agency'].unique()"
   ]
  },
  {
   "cell_type": "code",
   "execution_count": 15,
   "id": "89dd4a2a",
   "metadata": {},
   "outputs": [
    {
     "data": {
      "text/html": [
       "<div>\n",
       "<style scoped>\n",
       "    .dataframe tbody tr th:only-of-type {\n",
       "        vertical-align: middle;\n",
       "    }\n",
       "\n",
       "    .dataframe tbody tr th {\n",
       "        vertical-align: top;\n",
       "    }\n",
       "\n",
       "    .dataframe thead th {\n",
       "        text-align: right;\n",
       "    }\n",
       "</style>\n",
       "<table border=\"1\" class=\"dataframe\">\n",
       "  <thead>\n",
       "    <tr style=\"text-align: right;\">\n",
       "      <th></th>\n",
       "      <th>Agency</th>\n",
       "      <th>Agency Type</th>\n",
       "      <th>Distribution Channel</th>\n",
       "      <th>Product Name</th>\n",
       "      <th>Duration</th>\n",
       "      <th>Destination</th>\n",
       "      <th>Net Sales</th>\n",
       "      <th>Commision (in value)</th>\n",
       "      <th>Age</th>\n",
       "      <th>Claim</th>\n",
       "    </tr>\n",
       "  </thead>\n",
       "  <tbody>\n",
       "    <tr>\n",
       "      <th>0</th>\n",
       "      <td>C2B</td>\n",
       "      <td>Airlines</td>\n",
       "      <td>Online</td>\n",
       "      <td>Annual Silver Plan</td>\n",
       "      <td>365</td>\n",
       "      <td>SINGAPORE</td>\n",
       "      <td>216.0</td>\n",
       "      <td>54.0</td>\n",
       "      <td>57</td>\n",
       "      <td>0</td>\n",
       "    </tr>\n",
       "    <tr>\n",
       "      <th>1</th>\n",
       "      <td>EPX</td>\n",
       "      <td>Travel Agency</td>\n",
       "      <td>Online</td>\n",
       "      <td>Cancellation Plan</td>\n",
       "      <td>4</td>\n",
       "      <td>MALAYSIA</td>\n",
       "      <td>10.0</td>\n",
       "      <td>0.0</td>\n",
       "      <td>33</td>\n",
       "      <td>0</td>\n",
       "    </tr>\n",
       "    <tr>\n",
       "      <th>2</th>\n",
       "      <td>Others</td>\n",
       "      <td>Airlines</td>\n",
       "      <td>Online</td>\n",
       "      <td>Basic Plan</td>\n",
       "      <td>19</td>\n",
       "      <td>INDIA</td>\n",
       "      <td>22.0</td>\n",
       "      <td>7.7</td>\n",
       "      <td>26</td>\n",
       "      <td>0</td>\n",
       "    </tr>\n",
       "    <tr>\n",
       "      <th>3</th>\n",
       "      <td>EPX</td>\n",
       "      <td>Travel Agency</td>\n",
       "      <td>Online</td>\n",
       "      <td>2 way Comprehensive Plan</td>\n",
       "      <td>20</td>\n",
       "      <td>UNITED STATES</td>\n",
       "      <td>112.0</td>\n",
       "      <td>0.0</td>\n",
       "      <td>59</td>\n",
       "      <td>0</td>\n",
       "    </tr>\n",
       "    <tr>\n",
       "      <th>4</th>\n",
       "      <td>C2B</td>\n",
       "      <td>Airlines</td>\n",
       "      <td>Online</td>\n",
       "      <td>Bronze Plan</td>\n",
       "      <td>8</td>\n",
       "      <td>SINGAPORE</td>\n",
       "      <td>16.0</td>\n",
       "      <td>4.0</td>\n",
       "      <td>28</td>\n",
       "      <td>0</td>\n",
       "    </tr>\n",
       "  </tbody>\n",
       "</table>\n",
       "</div>"
      ],
      "text/plain": [
       "   Agency    Agency Type Distribution Channel              Product Name  \\\n",
       "0     C2B       Airlines               Online        Annual Silver Plan   \n",
       "1     EPX  Travel Agency               Online         Cancellation Plan   \n",
       "2  Others       Airlines               Online                Basic Plan   \n",
       "3     EPX  Travel Agency               Online  2 way Comprehensive Plan   \n",
       "4     C2B       Airlines               Online               Bronze Plan   \n",
       "\n",
       "   Duration    Destination  Net Sales  Commision (in value)  Age  Claim  \n",
       "0       365      SINGAPORE      216.0                  54.0   57      0  \n",
       "1         4       MALAYSIA       10.0                   0.0   33      0  \n",
       "2        19          INDIA       22.0                   7.7   26      0  \n",
       "3        20  UNITED STATES      112.0                   0.0   59      0  \n",
       "4         8      SINGAPORE       16.0                   4.0   28      0  "
      ]
     },
     "execution_count": 15,
     "metadata": {},
     "output_type": "execute_result"
    }
   ],
   "source": [
    "df.head()"
   ]
  },
  {
   "cell_type": "code",
   "execution_count": 16,
   "id": "9944a1f2",
   "metadata": {
    "scrolled": true
   },
   "outputs": [
    {
     "data": {
      "text/html": [
       "<div>\n",
       "<style scoped>\n",
       "    .dataframe tbody tr th:only-of-type {\n",
       "        vertical-align: middle;\n",
       "    }\n",
       "\n",
       "    .dataframe tbody tr th {\n",
       "        vertical-align: top;\n",
       "    }\n",
       "\n",
       "    .dataframe thead th {\n",
       "        text-align: right;\n",
       "    }\n",
       "</style>\n",
       "<table border=\"1\" class=\"dataframe\">\n",
       "  <thead>\n",
       "    <tr style=\"text-align: right;\">\n",
       "      <th>col_0</th>\n",
       "      <th>Percentage</th>\n",
       "    </tr>\n",
       "    <tr>\n",
       "      <th>Agency</th>\n",
       "      <th></th>\n",
       "    </tr>\n",
       "  </thead>\n",
       "  <tbody>\n",
       "    <tr>\n",
       "      <th>EPX</th>\n",
       "      <td>55.621729</td>\n",
       "    </tr>\n",
       "    <tr>\n",
       "      <th>Others</th>\n",
       "      <td>17.909673</td>\n",
       "    </tr>\n",
       "    <tr>\n",
       "      <th>CWT</th>\n",
       "      <td>13.490345</td>\n",
       "    </tr>\n",
       "    <tr>\n",
       "      <th>C2B</th>\n",
       "      <td>12.978253</td>\n",
       "    </tr>\n",
       "  </tbody>\n",
       "</table>\n",
       "</div>"
      ],
      "text/plain": [
       "col_0   Percentage\n",
       "Agency            \n",
       "EPX      55.621729\n",
       "Others   17.909673\n",
       "CWT      13.490345\n",
       "C2B      12.978253"
      ]
     },
     "execution_count": 16,
     "metadata": {},
     "output_type": "execute_result"
    }
   ],
   "source": [
    "(pd.crosstab(df['Agency'], columns= 'Percentage', normalize=True).sort_values('Percentage', ascending=False))*100"
   ]
  },
  {
   "cell_type": "markdown",
   "id": "44ce323e",
   "metadata": {},
   "source": [
    "#### 2.2 Feature `Agency Type`"
   ]
  },
  {
   "cell_type": "code",
   "execution_count": 17,
   "id": "59eb0ae0",
   "metadata": {},
   "outputs": [
    {
     "data": {
      "text/html": [
       "<div>\n",
       "<style scoped>\n",
       "    .dataframe tbody tr th:only-of-type {\n",
       "        vertical-align: middle;\n",
       "    }\n",
       "\n",
       "    .dataframe tbody tr th {\n",
       "        vertical-align: top;\n",
       "    }\n",
       "\n",
       "    .dataframe thead th {\n",
       "        text-align: right;\n",
       "    }\n",
       "</style>\n",
       "<table border=\"1\" class=\"dataframe\">\n",
       "  <thead>\n",
       "    <tr style=\"text-align: right;\">\n",
       "      <th>Claim</th>\n",
       "      <th>0</th>\n",
       "      <th>1</th>\n",
       "    </tr>\n",
       "    <tr>\n",
       "      <th>Agency Type</th>\n",
       "      <th></th>\n",
       "      <th></th>\n",
       "    </tr>\n",
       "  </thead>\n",
       "  <tbody>\n",
       "    <tr>\n",
       "      <th>Airlines</th>\n",
       "      <td>26.566</td>\n",
       "      <td>0.990</td>\n",
       "    </tr>\n",
       "    <tr>\n",
       "      <th>Travel Agency</th>\n",
       "      <td>71.907</td>\n",
       "      <td>0.537</td>\n",
       "    </tr>\n",
       "  </tbody>\n",
       "</table>\n",
       "</div>"
      ],
      "text/plain": [
       "Claim               0      1\n",
       "Agency Type                 \n",
       "Airlines       26.566  0.990\n",
       "Travel Agency  71.907  0.537"
      ]
     },
     "execution_count": 17,
     "metadata": {},
     "output_type": "execute_result"
    }
   ],
   "source": [
    "(pd.crosstab(index = df['Agency Type'], columns=df['Claim'], normalize=True)*100).round(3)"
   ]
  },
  {
   "cell_type": "markdown",
   "id": "d986f276",
   "metadata": {},
   "source": [
    "Semua data di kolom `Agency Type` akan digunakan karena hanya ada 2 tipe"
   ]
  },
  {
   "cell_type": "markdown",
   "id": "1562c3e5",
   "metadata": {},
   "source": [
    "#### 2.3 Feature `Distribution Channel`"
   ]
  },
  {
   "cell_type": "code",
   "execution_count": 18,
   "id": "f7c4acee",
   "metadata": {},
   "outputs": [
    {
     "data": {
      "text/html": [
       "<div>\n",
       "<style scoped>\n",
       "    .dataframe tbody tr th:only-of-type {\n",
       "        vertical-align: middle;\n",
       "    }\n",
       "\n",
       "    .dataframe tbody tr th {\n",
       "        vertical-align: top;\n",
       "    }\n",
       "\n",
       "    .dataframe thead th {\n",
       "        text-align: right;\n",
       "    }\n",
       "</style>\n",
       "<table border=\"1\" class=\"dataframe\">\n",
       "  <thead>\n",
       "    <tr style=\"text-align: right;\">\n",
       "      <th>Claim</th>\n",
       "      <th>0</th>\n",
       "      <th>1</th>\n",
       "    </tr>\n",
       "    <tr>\n",
       "      <th>Distribution Channel</th>\n",
       "      <th></th>\n",
       "      <th></th>\n",
       "    </tr>\n",
       "  </thead>\n",
       "  <tbody>\n",
       "    <tr>\n",
       "      <th>Offline</th>\n",
       "      <td>1.681</td>\n",
       "      <td>0.025</td>\n",
       "    </tr>\n",
       "    <tr>\n",
       "      <th>Online</th>\n",
       "      <td>96.792</td>\n",
       "      <td>1.502</td>\n",
       "    </tr>\n",
       "  </tbody>\n",
       "</table>\n",
       "</div>"
      ],
      "text/plain": [
       "Claim                      0      1\n",
       "Distribution Channel               \n",
       "Offline                1.681  0.025\n",
       "Online                96.792  1.502"
      ]
     },
     "execution_count": 18,
     "metadata": {},
     "output_type": "execute_result"
    }
   ],
   "source": [
    "(pd.crosstab(index = df['Distribution Channel'], columns= df['Claim'], normalize=True)*100).round(3)"
   ]
  },
  {
   "cell_type": "markdown",
   "id": "09ad3b01",
   "metadata": {},
   "source": [
    "Semua data di kolom `Distribution Channel` akan digunakan karena hanya ada 2 tipe"
   ]
  },
  {
   "cell_type": "markdown",
   "id": "af08571c",
   "metadata": {},
   "source": [
    "#### 2.4 Feature `Product Name`"
   ]
  },
  {
   "cell_type": "code",
   "execution_count": 19,
   "id": "30f83159",
   "metadata": {},
   "outputs": [
    {
     "data": {
      "text/html": [
       "<div>\n",
       "<style scoped>\n",
       "    .dataframe tbody tr th:only-of-type {\n",
       "        vertical-align: middle;\n",
       "    }\n",
       "\n",
       "    .dataframe tbody tr th {\n",
       "        vertical-align: top;\n",
       "    }\n",
       "\n",
       "    .dataframe thead th {\n",
       "        text-align: right;\n",
       "    }\n",
       "</style>\n",
       "<table border=\"1\" class=\"dataframe\">\n",
       "  <thead>\n",
       "    <tr style=\"text-align: right;\">\n",
       "      <th>Claim</th>\n",
       "      <th>0</th>\n",
       "      <th>1</th>\n",
       "    </tr>\n",
       "    <tr>\n",
       "      <th>Product Name</th>\n",
       "      <th></th>\n",
       "      <th></th>\n",
       "    </tr>\n",
       "  </thead>\n",
       "  <tbody>\n",
       "    <tr>\n",
       "      <th>1 way Comprehensive Plan</th>\n",
       "      <td>5.254</td>\n",
       "      <td>0.016</td>\n",
       "    </tr>\n",
       "    <tr>\n",
       "      <th>2 way Comprehensive Plan</th>\n",
       "      <td>20.858</td>\n",
       "      <td>0.214</td>\n",
       "    </tr>\n",
       "    <tr>\n",
       "      <th>24 Protect</th>\n",
       "      <td>0.388</td>\n",
       "      <td>0.000</td>\n",
       "    </tr>\n",
       "    <tr>\n",
       "      <th>Annual Gold Plan</th>\n",
       "      <td>0.284</td>\n",
       "      <td>0.036</td>\n",
       "    </tr>\n",
       "    <tr>\n",
       "      <th>Annual Silver Plan</th>\n",
       "      <td>1.954</td>\n",
       "      <td>0.246</td>\n",
       "    </tr>\n",
       "    <tr>\n",
       "      <th>Annual Travel Protect Gold</th>\n",
       "      <td>0.126</td>\n",
       "      <td>0.016</td>\n",
       "    </tr>\n",
       "    <tr>\n",
       "      <th>Annual Travel Protect Platinum</th>\n",
       "      <td>0.072</td>\n",
       "      <td>0.005</td>\n",
       "    </tr>\n",
       "    <tr>\n",
       "      <th>Annual Travel Protect Silver</th>\n",
       "      <td>0.124</td>\n",
       "      <td>0.009</td>\n",
       "    </tr>\n",
       "    <tr>\n",
       "      <th>Basic Plan</th>\n",
       "      <td>8.613</td>\n",
       "      <td>0.036</td>\n",
       "    </tr>\n",
       "    <tr>\n",
       "      <th>Bronze Plan</th>\n",
       "      <td>6.057</td>\n",
       "      <td>0.365</td>\n",
       "    </tr>\n",
       "    <tr>\n",
       "      <th>Cancellation Plan</th>\n",
       "      <td>29.210</td>\n",
       "      <td>0.070</td>\n",
       "    </tr>\n",
       "    <tr>\n",
       "      <th>Child Comprehensive Plan</th>\n",
       "      <td>0.018</td>\n",
       "      <td>0.000</td>\n",
       "    </tr>\n",
       "    <tr>\n",
       "      <th>Comprehensive Plan</th>\n",
       "      <td>0.562</td>\n",
       "      <td>0.009</td>\n",
       "    </tr>\n",
       "    <tr>\n",
       "      <th>Gold Plan</th>\n",
       "      <td>0.508</td>\n",
       "      <td>0.027</td>\n",
       "    </tr>\n",
       "    <tr>\n",
       "      <th>Individual Comprehensive Plan</th>\n",
       "      <td>0.108</td>\n",
       "      <td>0.000</td>\n",
       "    </tr>\n",
       "    <tr>\n",
       "      <th>Premier Plan</th>\n",
       "      <td>0.289</td>\n",
       "      <td>0.005</td>\n",
       "    </tr>\n",
       "    <tr>\n",
       "      <th>Rental Vehicle Excess Insurance</th>\n",
       "      <td>13.346</td>\n",
       "      <td>0.144</td>\n",
       "    </tr>\n",
       "    <tr>\n",
       "      <th>Silver Plan</th>\n",
       "      <td>3.258</td>\n",
       "      <td>0.244</td>\n",
       "    </tr>\n",
       "    <tr>\n",
       "      <th>Single Trip Travel Protect Gold</th>\n",
       "      <td>0.289</td>\n",
       "      <td>0.016</td>\n",
       "    </tr>\n",
       "    <tr>\n",
       "      <th>Single Trip Travel Protect Platinum</th>\n",
       "      <td>0.095</td>\n",
       "      <td>0.011</td>\n",
       "    </tr>\n",
       "    <tr>\n",
       "      <th>Single Trip Travel Protect Silver</th>\n",
       "      <td>0.255</td>\n",
       "      <td>0.009</td>\n",
       "    </tr>\n",
       "    <tr>\n",
       "      <th>Spouse or Parents Comprehensive Plan</th>\n",
       "      <td>0.027</td>\n",
       "      <td>0.002</td>\n",
       "    </tr>\n",
       "    <tr>\n",
       "      <th>Ticket Protector</th>\n",
       "      <td>1.714</td>\n",
       "      <td>0.011</td>\n",
       "    </tr>\n",
       "    <tr>\n",
       "      <th>Travel Cruise Protect</th>\n",
       "      <td>0.792</td>\n",
       "      <td>0.005</td>\n",
       "    </tr>\n",
       "    <tr>\n",
       "      <th>Travel Cruise Protect Family</th>\n",
       "      <td>0.002</td>\n",
       "      <td>0.000</td>\n",
       "    </tr>\n",
       "    <tr>\n",
       "      <th>Value Plan</th>\n",
       "      <td>4.270</td>\n",
       "      <td>0.032</td>\n",
       "    </tr>\n",
       "  </tbody>\n",
       "</table>\n",
       "</div>"
      ],
      "text/plain": [
       "Claim                                      0      1\n",
       "Product Name                                       \n",
       "1 way Comprehensive Plan               5.254  0.016\n",
       "2 way Comprehensive Plan              20.858  0.214\n",
       "24 Protect                             0.388  0.000\n",
       "Annual Gold Plan                       0.284  0.036\n",
       "Annual Silver Plan                     1.954  0.246\n",
       "Annual Travel Protect Gold             0.126  0.016\n",
       "Annual Travel Protect Platinum         0.072  0.005\n",
       "Annual Travel Protect Silver           0.124  0.009\n",
       "Basic Plan                             8.613  0.036\n",
       "Bronze Plan                            6.057  0.365\n",
       "Cancellation Plan                     29.210  0.070\n",
       "Child Comprehensive Plan               0.018  0.000\n",
       "Comprehensive Plan                     0.562  0.009\n",
       "Gold Plan                              0.508  0.027\n",
       "Individual Comprehensive Plan          0.108  0.000\n",
       "Premier Plan                           0.289  0.005\n",
       "Rental Vehicle Excess Insurance       13.346  0.144\n",
       "Silver Plan                            3.258  0.244\n",
       "Single Trip Travel Protect Gold        0.289  0.016\n",
       "Single Trip Travel Protect Platinum    0.095  0.011\n",
       "Single Trip Travel Protect Silver      0.255  0.009\n",
       "Spouse or Parents Comprehensive Plan   0.027  0.002\n",
       "Ticket Protector                       1.714  0.011\n",
       "Travel Cruise Protect                  0.792  0.005\n",
       "Travel Cruise Protect Family           0.002  0.000\n",
       "Value Plan                             4.270  0.032"
      ]
     },
     "execution_count": 19,
     "metadata": {},
     "output_type": "execute_result"
    }
   ],
   "source": [
    "(pd.crosstab(index = df['Product Name'], columns= df['Claim'], normalize=True)*100).round(3)"
   ]
  },
  {
   "cell_type": "markdown",
   "id": "85b4749d",
   "metadata": {},
   "source": [
    "Terdapat 26 data berbeda dalam kolom `Product Name` sehingga akan diambil data '2 way Comprehensive Plan', 'Annual Silver Plan', 'Bronze Plan', 'Rental Vehicle Excess Insurance', 'Silver Plan' karena mempengaruhi 'Claim' dan data lain akan dikategorikan sebagai 'Others'"
   ]
  },
  {
   "cell_type": "code",
   "execution_count": 20,
   "id": "58db7fa7",
   "metadata": {},
   "outputs": [],
   "source": [
    "#Recategorize kolom Product Name\n",
    "def recat_product(x):\n",
    "    if x in ['2 way Comprehensive Plan', 'Annual Silver Plan', 'Bronze Plan', 'Rental Vehicle Excess Insurance', 'Silver Plan']:\n",
    "        return x\n",
    "    else:\n",
    "        return 'Others'"
   ]
  },
  {
   "cell_type": "code",
   "execution_count": 21,
   "id": "ec67648e",
   "metadata": {},
   "outputs": [
    {
     "data": {
      "text/plain": [
       "array(['Annual Silver Plan', 'Others', '2 way Comprehensive Plan',\n",
       "       'Bronze Plan', 'Rental Vehicle Excess Insurance', 'Silver Plan'],\n",
       "      dtype=object)"
      ]
     },
     "execution_count": 21,
     "metadata": {},
     "output_type": "execute_result"
    }
   ],
   "source": [
    "df['Product Name'] = df['Product Name'].apply(recat_product)\n",
    "df['Product Name'].unique()"
   ]
  },
  {
   "cell_type": "code",
   "execution_count": 22,
   "id": "c0a43666",
   "metadata": {},
   "outputs": [
    {
     "data": {
      "text/html": [
       "<div>\n",
       "<style scoped>\n",
       "    .dataframe tbody tr th:only-of-type {\n",
       "        vertical-align: middle;\n",
       "    }\n",
       "\n",
       "    .dataframe tbody tr th {\n",
       "        vertical-align: top;\n",
       "    }\n",
       "\n",
       "    .dataframe thead th {\n",
       "        text-align: right;\n",
       "    }\n",
       "</style>\n",
       "<table border=\"1\" class=\"dataframe\">\n",
       "  <thead>\n",
       "    <tr style=\"text-align: right;\">\n",
       "      <th>col_0</th>\n",
       "      <th>Percentage</th>\n",
       "    </tr>\n",
       "    <tr>\n",
       "      <th>Product Name</th>\n",
       "      <th></th>\n",
       "    </tr>\n",
       "  </thead>\n",
       "  <tbody>\n",
       "    <tr>\n",
       "      <th>Others</th>\n",
       "      <td>53.313933</td>\n",
       "    </tr>\n",
       "    <tr>\n",
       "      <th>2 way Comprehensive Plan</th>\n",
       "      <td>21.072460</td>\n",
       "    </tr>\n",
       "    <tr>\n",
       "      <th>Rental Vehicle Excess Insurance</th>\n",
       "      <td>13.490345</td>\n",
       "    </tr>\n",
       "    <tr>\n",
       "      <th>Bronze Plan</th>\n",
       "      <td>6.422577</td>\n",
       "    </tr>\n",
       "    <tr>\n",
       "      <th>Silver Plan</th>\n",
       "      <td>3.501173</td>\n",
       "    </tr>\n",
       "    <tr>\n",
       "      <th>Annual Silver Plan</th>\n",
       "      <td>2.199513</td>\n",
       "    </tr>\n",
       "  </tbody>\n",
       "</table>\n",
       "</div>"
      ],
      "text/plain": [
       "col_0                            Percentage\n",
       "Product Name                               \n",
       "Others                            53.313933\n",
       "2 way Comprehensive Plan          21.072460\n",
       "Rental Vehicle Excess Insurance   13.490345\n",
       "Bronze Plan                        6.422577\n",
       "Silver Plan                        3.501173\n",
       "Annual Silver Plan                 2.199513"
      ]
     },
     "execution_count": 22,
     "metadata": {},
     "output_type": "execute_result"
    }
   ],
   "source": [
    "(pd.crosstab(df['Product Name'], columns= 'Percentage', normalize=True).sort_values('Percentage', ascending=False))*100"
   ]
  },
  {
   "cell_type": "markdown",
   "id": "54f1b81e",
   "metadata": {},
   "source": [
    "#### 2.5 Feature `Destination`"
   ]
  },
  {
   "cell_type": "code",
   "execution_count": 23,
   "id": "9be2b36a",
   "metadata": {
    "scrolled": false
   },
   "outputs": [
    {
     "data": {
      "text/html": [
       "<div>\n",
       "<style scoped>\n",
       "    .dataframe tbody tr th:only-of-type {\n",
       "        vertical-align: middle;\n",
       "    }\n",
       "\n",
       "    .dataframe tbody tr th {\n",
       "        vertical-align: top;\n",
       "    }\n",
       "\n",
       "    .dataframe thead th {\n",
       "        text-align: right;\n",
       "    }\n",
       "</style>\n",
       "<table border=\"1\" class=\"dataframe\">\n",
       "  <thead>\n",
       "    <tr style=\"text-align: right;\">\n",
       "      <th>Claim</th>\n",
       "      <th>0</th>\n",
       "      <th>1</th>\n",
       "    </tr>\n",
       "    <tr>\n",
       "      <th>Destination</th>\n",
       "      <th></th>\n",
       "      <th></th>\n",
       "    </tr>\n",
       "  </thead>\n",
       "  <tbody>\n",
       "    <tr>\n",
       "      <th>SINGAPORE</th>\n",
       "      <td>19.965</td>\n",
       "      <td>0.941</td>\n",
       "    </tr>\n",
       "    <tr>\n",
       "      <th>CHINA</th>\n",
       "      <td>7.587</td>\n",
       "      <td>0.074</td>\n",
       "    </tr>\n",
       "    <tr>\n",
       "      <th>AUSTRALIA</th>\n",
       "      <td>5.748</td>\n",
       "      <td>0.068</td>\n",
       "    </tr>\n",
       "    <tr>\n",
       "      <th>UNITED STATES</th>\n",
       "      <td>3.867</td>\n",
       "      <td>0.065</td>\n",
       "    </tr>\n",
       "    <tr>\n",
       "      <th>THAILAND</th>\n",
       "      <td>9.245</td>\n",
       "      <td>0.054</td>\n",
       "    </tr>\n",
       "    <tr>\n",
       "      <th>...</th>\n",
       "      <td>...</td>\n",
       "      <td>...</td>\n",
       "    </tr>\n",
       "    <tr>\n",
       "      <th>GUADELOUPE</th>\n",
       "      <td>0.002</td>\n",
       "      <td>0.000</td>\n",
       "    </tr>\n",
       "    <tr>\n",
       "      <th>GHANA</th>\n",
       "      <td>0.007</td>\n",
       "      <td>0.000</td>\n",
       "    </tr>\n",
       "    <tr>\n",
       "      <th>GEORGIA</th>\n",
       "      <td>0.025</td>\n",
       "      <td>0.000</td>\n",
       "    </tr>\n",
       "    <tr>\n",
       "      <th>FRENCH POLYNESIA</th>\n",
       "      <td>0.002</td>\n",
       "      <td>0.000</td>\n",
       "    </tr>\n",
       "    <tr>\n",
       "      <th>ZIMBABWE</th>\n",
       "      <td>0.007</td>\n",
       "      <td>0.000</td>\n",
       "    </tr>\n",
       "  </tbody>\n",
       "</table>\n",
       "<p>138 rows × 2 columns</p>\n",
       "</div>"
      ],
      "text/plain": [
       "Claim                  0      1\n",
       "Destination                    \n",
       "SINGAPORE         19.965  0.941\n",
       "CHINA              7.587  0.074\n",
       "AUSTRALIA          5.748  0.068\n",
       "UNITED STATES      3.867  0.065\n",
       "THAILAND           9.245  0.054\n",
       "...                  ...    ...\n",
       "GUADELOUPE         0.002  0.000\n",
       "GHANA              0.007  0.000\n",
       "GEORGIA            0.025  0.000\n",
       "FRENCH POLYNESIA   0.002  0.000\n",
       "ZIMBABWE           0.007  0.000\n",
       "\n",
       "[138 rows x 2 columns]"
      ]
     },
     "execution_count": 23,
     "metadata": {},
     "output_type": "execute_result"
    }
   ],
   "source": [
    "(pd.crosstab(index = df['Destination'], columns= df['Claim'], normalize=True)*100).round(3).sort_values(1, ascending=False)"
   ]
  },
  {
   "cell_type": "markdown",
   "id": "c1bd96c8",
   "metadata": {},
   "source": [
    "Pada kolom `Destination` , tujuan 'Singapore' memiliki data 'Claim' yang signifikan dibandingkan dengan negara tujuan lain, sehingga akan digunakan dalam machine learning selanjutnya. Sedangkan data negara lain akan dikelompokkan menjadi 'Others'"
   ]
  },
  {
   "cell_type": "code",
   "execution_count": 24,
   "id": "4dfea273",
   "metadata": {},
   "outputs": [],
   "source": [
    "#Recategorize kolom Destination\n",
    "def recat_destination(x):\n",
    "    if x in ['SINGAPORE']:\n",
    "        return x\n",
    "    else:\n",
    "        return 'Others'"
   ]
  },
  {
   "cell_type": "code",
   "execution_count": 25,
   "id": "d3820182",
   "metadata": {},
   "outputs": [
    {
     "data": {
      "text/plain": [
       "array(['SINGAPORE', 'Others'], dtype=object)"
      ]
     },
     "execution_count": 25,
     "metadata": {},
     "output_type": "execute_result"
    }
   ],
   "source": [
    "df['Destination'] = df['Destination'].apply(recat_destination)\n",
    "df['Destination'].unique()"
   ]
  },
  {
   "cell_type": "code",
   "execution_count": 26,
   "id": "bcd3dd4d",
   "metadata": {},
   "outputs": [
    {
     "data": {
      "text/html": [
       "<div>\n",
       "<style scoped>\n",
       "    .dataframe tbody tr th:only-of-type {\n",
       "        vertical-align: middle;\n",
       "    }\n",
       "\n",
       "    .dataframe tbody tr th {\n",
       "        vertical-align: top;\n",
       "    }\n",
       "\n",
       "    .dataframe thead th {\n",
       "        text-align: right;\n",
       "    }\n",
       "</style>\n",
       "<table border=\"1\" class=\"dataframe\">\n",
       "  <thead>\n",
       "    <tr style=\"text-align: right;\">\n",
       "      <th>col_0</th>\n",
       "      <th>Percentage</th>\n",
       "    </tr>\n",
       "    <tr>\n",
       "      <th>Destination</th>\n",
       "      <th></th>\n",
       "    </tr>\n",
       "  </thead>\n",
       "  <tbody>\n",
       "    <tr>\n",
       "      <th>Others</th>\n",
       "      <td>79.094478</td>\n",
       "    </tr>\n",
       "    <tr>\n",
       "      <th>SINGAPORE</th>\n",
       "      <td>20.905522</td>\n",
       "    </tr>\n",
       "  </tbody>\n",
       "</table>\n",
       "</div>"
      ],
      "text/plain": [
       "col_0        Percentage\n",
       "Destination            \n",
       "Others        79.094478\n",
       "SINGAPORE     20.905522"
      ]
     },
     "execution_count": 26,
     "metadata": {},
     "output_type": "execute_result"
    }
   ],
   "source": [
    "(pd.crosstab(df['Destination'], columns='Percentage', normalize=True).sort_values('Percentage', ascending=False))*100"
   ]
  },
  {
   "cell_type": "markdown",
   "id": "cbdf83e1",
   "metadata": {},
   "source": [
    "### 2. Distribusi Kolom Numerikal\n",
    "Memeriksa distribusi kolom Numerikal untuk mengetahui keberadaan outliers"
   ]
  },
  {
   "cell_type": "markdown",
   "id": "7e5e6290",
   "metadata": {},
   "source": [
    "#### 2.1 Feature `Duration`"
   ]
  },
  {
   "cell_type": "code",
   "execution_count": 27,
   "id": "09c1bf2c",
   "metadata": {},
   "outputs": [
    {
     "data": {
      "image/png": "[encoded data removed]",
      "text/plain": [
       "<Figure size 432x288 with 1 Axes>"
      ]
     },
     "metadata": {
      "needs_background": "light"
     },
     "output_type": "display_data"
    }
   ],
   "source": [
    "sns.boxplot(df['Duration'])\n",
    "plt.title('Boxplot Outlier in Duration')\n",
    "plt.show()"
   ]
  },
  {
   "cell_type": "markdown",
   "id": "b0cb5a37",
   "metadata": {},
   "source": [
    "Akan dicari apakah durasi di atas 4000 mempengaruhi 'Claim'"
   ]
  },
  {
   "cell_type": "code",
   "execution_count": 28,
   "id": "d5dd0b20",
   "metadata": {
    "scrolled": false
   },
   "outputs": [
    {
     "data": {
      "text/html": [
       "<div>\n",
       "<style scoped>\n",
       "    .dataframe tbody tr th:only-of-type {\n",
       "        vertical-align: middle;\n",
       "    }\n",
       "\n",
       "    .dataframe tbody tr th {\n",
       "        vertical-align: top;\n",
       "    }\n",
       "\n",
       "    .dataframe thead th {\n",
       "        text-align: right;\n",
       "    }\n",
       "</style>\n",
       "<table border=\"1\" class=\"dataframe\">\n",
       "  <thead>\n",
       "    <tr style=\"text-align: right;\">\n",
       "      <th></th>\n",
       "      <th>Agency</th>\n",
       "      <th>Agency Type</th>\n",
       "      <th>Distribution Channel</th>\n",
       "      <th>Product Name</th>\n",
       "      <th>Duration</th>\n",
       "      <th>Destination</th>\n",
       "      <th>Net Sales</th>\n",
       "      <th>Commision (in value)</th>\n",
       "      <th>Age</th>\n",
       "      <th>Claim</th>\n",
       "    </tr>\n",
       "  </thead>\n",
       "  <tbody>\n",
       "    <tr>\n",
       "      <th>87</th>\n",
       "      <td>Others</td>\n",
       "      <td>Airlines</td>\n",
       "      <td>Online</td>\n",
       "      <td>Others</td>\n",
       "      <td>4736</td>\n",
       "      <td>SINGAPORE</td>\n",
       "      <td>0.32</td>\n",
       "      <td>0.09</td>\n",
       "      <td>48</td>\n",
       "      <td>0</td>\n",
       "    </tr>\n",
       "    <tr>\n",
       "      <th>4678</th>\n",
       "      <td>Others</td>\n",
       "      <td>Airlines</td>\n",
       "      <td>Online</td>\n",
       "      <td>Others</td>\n",
       "      <td>4857</td>\n",
       "      <td>SINGAPORE</td>\n",
       "      <td>0.32</td>\n",
       "      <td>0.09</td>\n",
       "      <td>48</td>\n",
       "      <td>0</td>\n",
       "    </tr>\n",
       "    <tr>\n",
       "      <th>10172</th>\n",
       "      <td>Others</td>\n",
       "      <td>Airlines</td>\n",
       "      <td>Online</td>\n",
       "      <td>Others</td>\n",
       "      <td>4815</td>\n",
       "      <td>SINGAPORE</td>\n",
       "      <td>0.32</td>\n",
       "      <td>0.09</td>\n",
       "      <td>48</td>\n",
       "      <td>0</td>\n",
       "    </tr>\n",
       "    <tr>\n",
       "      <th>12140</th>\n",
       "      <td>Others</td>\n",
       "      <td>Airlines</td>\n",
       "      <td>Online</td>\n",
       "      <td>Others</td>\n",
       "      <td>4652</td>\n",
       "      <td>SINGAPORE</td>\n",
       "      <td>0.32</td>\n",
       "      <td>0.09</td>\n",
       "      <td>48</td>\n",
       "      <td>0</td>\n",
       "    </tr>\n",
       "    <tr>\n",
       "      <th>19497</th>\n",
       "      <td>Others</td>\n",
       "      <td>Airlines</td>\n",
       "      <td>Online</td>\n",
       "      <td>Others</td>\n",
       "      <td>4881</td>\n",
       "      <td>SINGAPORE</td>\n",
       "      <td>0.13</td>\n",
       "      <td>0.04</td>\n",
       "      <td>48</td>\n",
       "      <td>0</td>\n",
       "    </tr>\n",
       "    <tr>\n",
       "      <th>20038</th>\n",
       "      <td>Others</td>\n",
       "      <td>Airlines</td>\n",
       "      <td>Online</td>\n",
       "      <td>Others</td>\n",
       "      <td>4844</td>\n",
       "      <td>SINGAPORE</td>\n",
       "      <td>0.32</td>\n",
       "      <td>0.09</td>\n",
       "      <td>48</td>\n",
       "      <td>0</td>\n",
       "    </tr>\n",
       "    <tr>\n",
       "      <th>22215</th>\n",
       "      <td>Others</td>\n",
       "      <td>Airlines</td>\n",
       "      <td>Online</td>\n",
       "      <td>Others</td>\n",
       "      <td>4580</td>\n",
       "      <td>SINGAPORE</td>\n",
       "      <td>0.32</td>\n",
       "      <td>0.09</td>\n",
       "      <td>48</td>\n",
       "      <td>0</td>\n",
       "    </tr>\n",
       "    <tr>\n",
       "      <th>25606</th>\n",
       "      <td>Others</td>\n",
       "      <td>Airlines</td>\n",
       "      <td>Online</td>\n",
       "      <td>Others</td>\n",
       "      <td>4685</td>\n",
       "      <td>SINGAPORE</td>\n",
       "      <td>0.32</td>\n",
       "      <td>0.09</td>\n",
       "      <td>48</td>\n",
       "      <td>0</td>\n",
       "    </tr>\n",
       "    <tr>\n",
       "      <th>28032</th>\n",
       "      <td>Others</td>\n",
       "      <td>Airlines</td>\n",
       "      <td>Online</td>\n",
       "      <td>Others</td>\n",
       "      <td>4829</td>\n",
       "      <td>SINGAPORE</td>\n",
       "      <td>0.32</td>\n",
       "      <td>0.09</td>\n",
       "      <td>48</td>\n",
       "      <td>0</td>\n",
       "    </tr>\n",
       "    <tr>\n",
       "      <th>37207</th>\n",
       "      <td>Others</td>\n",
       "      <td>Airlines</td>\n",
       "      <td>Online</td>\n",
       "      <td>Others</td>\n",
       "      <td>4609</td>\n",
       "      <td>SINGAPORE</td>\n",
       "      <td>0.32</td>\n",
       "      <td>0.09</td>\n",
       "      <td>48</td>\n",
       "      <td>0</td>\n",
       "    </tr>\n",
       "    <tr>\n",
       "      <th>38536</th>\n",
       "      <td>Others</td>\n",
       "      <td>Airlines</td>\n",
       "      <td>Online</td>\n",
       "      <td>Others</td>\n",
       "      <td>4784</td>\n",
       "      <td>SINGAPORE</td>\n",
       "      <td>0.32</td>\n",
       "      <td>0.09</td>\n",
       "      <td>48</td>\n",
       "      <td>0</td>\n",
       "    </tr>\n",
       "    <tr>\n",
       "      <th>42584</th>\n",
       "      <td>Others</td>\n",
       "      <td>Airlines</td>\n",
       "      <td>Online</td>\n",
       "      <td>Others</td>\n",
       "      <td>4831</td>\n",
       "      <td>SINGAPORE</td>\n",
       "      <td>0.32</td>\n",
       "      <td>0.09</td>\n",
       "      <td>48</td>\n",
       "      <td>0</td>\n",
       "    </tr>\n",
       "    <tr>\n",
       "      <th>42717</th>\n",
       "      <td>Others</td>\n",
       "      <td>Airlines</td>\n",
       "      <td>Online</td>\n",
       "      <td>Others</td>\n",
       "      <td>4847</td>\n",
       "      <td>SINGAPORE</td>\n",
       "      <td>0.32</td>\n",
       "      <td>0.09</td>\n",
       "      <td>48</td>\n",
       "      <td>0</td>\n",
       "    </tr>\n",
       "  </tbody>\n",
       "</table>\n",
       "</div>"
      ],
      "text/plain": [
       "       Agency Agency Type Distribution Channel Product Name  Duration  \\\n",
       "87     Others    Airlines               Online       Others      4736   \n",
       "4678   Others    Airlines               Online       Others      4857   \n",
       "10172  Others    Airlines               Online       Others      4815   \n",
       "12140  Others    Airlines               Online       Others      4652   \n",
       "19497  Others    Airlines               Online       Others      4881   \n",
       "20038  Others    Airlines               Online       Others      4844   \n",
       "22215  Others    Airlines               Online       Others      4580   \n",
       "25606  Others    Airlines               Online       Others      4685   \n",
       "28032  Others    Airlines               Online       Others      4829   \n",
       "37207  Others    Airlines               Online       Others      4609   \n",
       "38536  Others    Airlines               Online       Others      4784   \n",
       "42584  Others    Airlines               Online       Others      4831   \n",
       "42717  Others    Airlines               Online       Others      4847   \n",
       "\n",
       "      Destination  Net Sales  Commision (in value)  Age  Claim  \n",
       "87      SINGAPORE       0.32                  0.09   48      0  \n",
       "4678    SINGAPORE       0.32                  0.09   48      0  \n",
       "10172   SINGAPORE       0.32                  0.09   48      0  \n",
       "12140   SINGAPORE       0.32                  0.09   48      0  \n",
       "19497   SINGAPORE       0.13                  0.04   48      0  \n",
       "20038   SINGAPORE       0.32                  0.09   48      0  \n",
       "22215   SINGAPORE       0.32                  0.09   48      0  \n",
       "25606   SINGAPORE       0.32                  0.09   48      0  \n",
       "28032   SINGAPORE       0.32                  0.09   48      0  \n",
       "37207   SINGAPORE       0.32                  0.09   48      0  \n",
       "38536   SINGAPORE       0.32                  0.09   48      0  \n",
       "42584   SINGAPORE       0.32                  0.09   48      0  \n",
       "42717   SINGAPORE       0.32                  0.09   48      0  "
      ]
     },
     "execution_count": 28,
     "metadata": {},
     "output_type": "execute_result"
    }
   ],
   "source": [
    "df[(df['Duration']>4000)]"
   ]
  },
  {
   "cell_type": "markdown",
   "id": "20c12a5b",
   "metadata": {},
   "source": [
    "Durasi di atas 4000 tidak ada yang Claim asuransi, sehingga akan drop baris yang 'Duration' lebih dari 4000"
   ]
  },
  {
   "cell_type": "code",
   "execution_count": 29,
   "id": "447be10a",
   "metadata": {},
   "outputs": [],
   "source": [
    "df.drop(df[df['Duration'] > 4000].index, inplace=True)"
   ]
  },
  {
   "cell_type": "code",
   "execution_count": 30,
   "id": "3f44db3c",
   "metadata": {
    "scrolled": true
   },
   "outputs": [
    {
     "data": {
      "image/png": "[encoded data removed]",
      "text/plain": [
       "<Figure size 432x288 with 1 Axes>"
      ]
     },
     "metadata": {
      "needs_background": "light"
     },
     "output_type": "display_data"
    }
   ],
   "source": [
    "sns.boxplot(df['Duration'])\n",
    "plt.title('Boxplot Outlier in Duration')\n",
    "plt.show()"
   ]
  },
  {
   "cell_type": "code",
   "execution_count": 31,
   "id": "6da982bd",
   "metadata": {},
   "outputs": [
    {
     "data": {
      "text/html": [
       "<div>\n",
       "<style scoped>\n",
       "    .dataframe tbody tr th:only-of-type {\n",
       "        vertical-align: middle;\n",
       "    }\n",
       "\n",
       "    .dataframe tbody tr th {\n",
       "        vertical-align: top;\n",
       "    }\n",
       "\n",
       "    .dataframe thead th {\n",
       "        text-align: right;\n",
       "    }\n",
       "</style>\n",
       "<table border=\"1\" class=\"dataframe\">\n",
       "  <thead>\n",
       "    <tr style=\"text-align: right;\">\n",
       "      <th></th>\n",
       "      <th>Agency</th>\n",
       "      <th>Agency Type</th>\n",
       "      <th>Distribution Channel</th>\n",
       "      <th>Product Name</th>\n",
       "      <th>Duration</th>\n",
       "      <th>Destination</th>\n",
       "      <th>Net Sales</th>\n",
       "      <th>Commision (in value)</th>\n",
       "      <th>Age</th>\n",
       "      <th>Claim</th>\n",
       "    </tr>\n",
       "  </thead>\n",
       "  <tbody>\n",
       "    <tr>\n",
       "      <th>13</th>\n",
       "      <td>C2B</td>\n",
       "      <td>Airlines</td>\n",
       "      <td>Online</td>\n",
       "      <td>Annual Silver Plan</td>\n",
       "      <td>376</td>\n",
       "      <td>SINGAPORE</td>\n",
       "      <td>252.85</td>\n",
       "      <td>63.21</td>\n",
       "      <td>43</td>\n",
       "      <td>1</td>\n",
       "    </tr>\n",
       "    <tr>\n",
       "      <th>50</th>\n",
       "      <td>Others</td>\n",
       "      <td>Travel Agency</td>\n",
       "      <td>Online</td>\n",
       "      <td>Others</td>\n",
       "      <td>370</td>\n",
       "      <td>Others</td>\n",
       "      <td>204.60</td>\n",
       "      <td>132.99</td>\n",
       "      <td>39</td>\n",
       "      <td>1</td>\n",
       "    </tr>\n",
       "    <tr>\n",
       "      <th>102</th>\n",
       "      <td>EPX</td>\n",
       "      <td>Travel Agency</td>\n",
       "      <td>Online</td>\n",
       "      <td>2 way Comprehensive Plan</td>\n",
       "      <td>156</td>\n",
       "      <td>Others</td>\n",
       "      <td>26.00</td>\n",
       "      <td>0.00</td>\n",
       "      <td>36</td>\n",
       "      <td>1</td>\n",
       "    </tr>\n",
       "    <tr>\n",
       "      <th>695</th>\n",
       "      <td>C2B</td>\n",
       "      <td>Airlines</td>\n",
       "      <td>Online</td>\n",
       "      <td>Others</td>\n",
       "      <td>370</td>\n",
       "      <td>SINGAPORE</td>\n",
       "      <td>333.00</td>\n",
       "      <td>83.25</td>\n",
       "      <td>30</td>\n",
       "      <td>1</td>\n",
       "    </tr>\n",
       "    <tr>\n",
       "      <th>1087</th>\n",
       "      <td>C2B</td>\n",
       "      <td>Airlines</td>\n",
       "      <td>Online</td>\n",
       "      <td>Annual Silver Plan</td>\n",
       "      <td>364</td>\n",
       "      <td>SINGAPORE</td>\n",
       "      <td>216.00</td>\n",
       "      <td>54.00</td>\n",
       "      <td>42</td>\n",
       "      <td>1</td>\n",
       "    </tr>\n",
       "    <tr>\n",
       "      <th>...</th>\n",
       "      <td>...</td>\n",
       "      <td>...</td>\n",
       "      <td>...</td>\n",
       "      <td>...</td>\n",
       "      <td>...</td>\n",
       "      <td>...</td>\n",
       "      <td>...</td>\n",
       "      <td>...</td>\n",
       "      <td>...</td>\n",
       "      <td>...</td>\n",
       "    </tr>\n",
       "    <tr>\n",
       "      <th>42850</th>\n",
       "      <td>C2B</td>\n",
       "      <td>Airlines</td>\n",
       "      <td>Online</td>\n",
       "      <td>Bronze Plan</td>\n",
       "      <td>116</td>\n",
       "      <td>SINGAPORE</td>\n",
       "      <td>53.50</td>\n",
       "      <td>13.38</td>\n",
       "      <td>36</td>\n",
       "      <td>1</td>\n",
       "    </tr>\n",
       "    <tr>\n",
       "      <th>43412</th>\n",
       "      <td>C2B</td>\n",
       "      <td>Airlines</td>\n",
       "      <td>Online</td>\n",
       "      <td>Others</td>\n",
       "      <td>373</td>\n",
       "      <td>SINGAPORE</td>\n",
       "      <td>333.00</td>\n",
       "      <td>83.25</td>\n",
       "      <td>45</td>\n",
       "      <td>1</td>\n",
       "    </tr>\n",
       "    <tr>\n",
       "      <th>43554</th>\n",
       "      <td>C2B</td>\n",
       "      <td>Airlines</td>\n",
       "      <td>Online</td>\n",
       "      <td>Annual Silver Plan</td>\n",
       "      <td>364</td>\n",
       "      <td>SINGAPORE</td>\n",
       "      <td>252.85</td>\n",
       "      <td>63.21</td>\n",
       "      <td>30</td>\n",
       "      <td>1</td>\n",
       "    </tr>\n",
       "    <tr>\n",
       "      <th>43560</th>\n",
       "      <td>C2B</td>\n",
       "      <td>Airlines</td>\n",
       "      <td>Online</td>\n",
       "      <td>Annual Silver Plan</td>\n",
       "      <td>365</td>\n",
       "      <td>SINGAPORE</td>\n",
       "      <td>252.85</td>\n",
       "      <td>63.21</td>\n",
       "      <td>47</td>\n",
       "      <td>1</td>\n",
       "    </tr>\n",
       "    <tr>\n",
       "      <th>44224</th>\n",
       "      <td>C2B</td>\n",
       "      <td>Airlines</td>\n",
       "      <td>Online</td>\n",
       "      <td>Annual Silver Plan</td>\n",
       "      <td>390</td>\n",
       "      <td>SINGAPORE</td>\n",
       "      <td>301.00</td>\n",
       "      <td>75.25</td>\n",
       "      <td>48</td>\n",
       "      <td>1</td>\n",
       "    </tr>\n",
       "  </tbody>\n",
       "</table>\n",
       "<p>179 rows × 10 columns</p>\n",
       "</div>"
      ],
      "text/plain": [
       "       Agency    Agency Type Distribution Channel              Product Name  \\\n",
       "13        C2B       Airlines               Online        Annual Silver Plan   \n",
       "50     Others  Travel Agency               Online                    Others   \n",
       "102       EPX  Travel Agency               Online  2 way Comprehensive Plan   \n",
       "695       C2B       Airlines               Online                    Others   \n",
       "1087      C2B       Airlines               Online        Annual Silver Plan   \n",
       "...       ...            ...                  ...                       ...   \n",
       "42850     C2B       Airlines               Online               Bronze Plan   \n",
       "43412     C2B       Airlines               Online                    Others   \n",
       "43554     C2B       Airlines               Online        Annual Silver Plan   \n",
       "43560     C2B       Airlines               Online        Annual Silver Plan   \n",
       "44224     C2B       Airlines               Online        Annual Silver Plan   \n",
       "\n",
       "       Duration Destination  Net Sales  Commision (in value)  Age  Claim  \n",
       "13          376   SINGAPORE     252.85                 63.21   43      1  \n",
       "50          370      Others     204.60                132.99   39      1  \n",
       "102         156      Others      26.00                  0.00   36      1  \n",
       "695         370   SINGAPORE     333.00                 83.25   30      1  \n",
       "1087        364   SINGAPORE     216.00                 54.00   42      1  \n",
       "...         ...         ...        ...                   ...  ...    ...  \n",
       "42850       116   SINGAPORE      53.50                 13.38   36      1  \n",
       "43412       373   SINGAPORE     333.00                 83.25   45      1  \n",
       "43554       364   SINGAPORE     252.85                 63.21   30      1  \n",
       "43560       365   SINGAPORE     252.85                 63.21   47      1  \n",
       "44224       390   SINGAPORE     301.00                 75.25   48      1  \n",
       "\n",
       "[179 rows x 10 columns]"
      ]
     },
     "execution_count": 31,
     "metadata": {},
     "output_type": "execute_result"
    }
   ],
   "source": [
    "df[(df['Duration']>100) & (df['Claim']==1)]"
   ]
  },
  {
   "cell_type": "markdown",
   "id": "45ce183f",
   "metadata": {},
   "source": [
    "Walaupun di Boxplot, data Durasi lebih dari 100 terdeteksi sebagai outliers, data tersebut akan tetap dipakai untuk machine learning karena terdapat Claim kelas 1"
   ]
  },
  {
   "cell_type": "markdown",
   "id": "c066d3a9",
   "metadata": {},
   "source": [
    "#### 2.2 Feature `Net Sales`"
   ]
  },
  {
   "cell_type": "code",
   "execution_count": 32,
   "id": "8e8ce239",
   "metadata": {},
   "outputs": [
    {
     "data": {
      "image/png": "[encoded data removed]",
      "text/plain": [
       "<Figure size 432x288 with 1 Axes>"
      ]
     },
     "metadata": {
      "needs_background": "light"
     },
     "output_type": "display_data"
    }
   ],
   "source": [
    "sns.boxplot(df['Net Sales'])\n",
    "plt.title('Boxplot Outlier in Net Sales')\n",
    "plt.show()"
   ]
  },
  {
   "cell_type": "markdown",
   "id": "35e02b93",
   "metadata": {},
   "source": [
    "Data `Net Sales` memiliki range nilai yang negatif, untuk pengolahan data akan digunakan data `Net Sales` yang positif mulai dari 0 hingga max "
   ]
  },
  {
   "cell_type": "code",
   "execution_count": 33,
   "id": "7f34b4c5",
   "metadata": {},
   "outputs": [],
   "source": [
    "df.drop(df[df['Net Sales'] < 0].index, inplace=True)"
   ]
  },
  {
   "cell_type": "code",
   "execution_count": 34,
   "id": "cab677c6",
   "metadata": {},
   "outputs": [
    {
     "data": {
      "image/png": "[encoded data removed]",
      "text/plain": [
       "<Figure size 432x288 with 1 Axes>"
      ]
     },
     "metadata": {
      "needs_background": "light"
     },
     "output_type": "display_data"
    }
   ],
   "source": [
    "sns.boxplot(df['Net Sales'])\n",
    "plt.title('Boxplot Net Sales')\n",
    "plt.show()"
   ]
  },
  {
   "cell_type": "markdown",
   "id": "050a02d7",
   "metadata": {},
   "source": [
    "Walaupun data `Net Sales` di atas 100 terdeteksi sebagai outliers, namun tetap digunakan untuk training model karena masih masuk akal data `Net Sales` selama bernilai positif"
   ]
  },
  {
   "cell_type": "markdown",
   "id": "68c337e9",
   "metadata": {},
   "source": [
    "#### 2.3 Feature `Commision (in value)`"
   ]
  },
  {
   "cell_type": "code",
   "execution_count": 35,
   "id": "0c5b2b4d",
   "metadata": {
    "scrolled": true
   },
   "outputs": [
    {
     "data": {
      "image/png": "[encoded data removed]",
      "text/plain": [
       "<Figure size 432x288 with 1 Axes>"
      ]
     },
     "metadata": {
      "needs_background": "light"
     },
     "output_type": "display_data"
    }
   ],
   "source": [
    "sns.boxplot(df['Commision (in value)'])\n",
    "plt.title('Boxplot Outlier in Commision')\n",
    "plt.show()"
   ]
  },
  {
   "cell_type": "markdown",
   "id": "4e7c8133",
   "metadata": {},
   "source": [
    "Walaupun data `Commision (in value)` di atas terdeteksi sebagai outliers, namun tetap digunakan untuk training model karena masih masuk akal data `Commision (in value)` selama bernilai positif"
   ]
  },
  {
   "cell_type": "markdown",
   "id": "32fcb352",
   "metadata": {},
   "source": [
    "#### 2.4 Feature `Age`"
   ]
  },
  {
   "cell_type": "code",
   "execution_count": 36,
   "id": "0a2f12f7",
   "metadata": {},
   "outputs": [
    {
     "data": {
      "image/png": "[encoded data removed]",
      "text/plain": [
       "<Figure size 432x288 with 1 Axes>"
      ]
     },
     "metadata": {
      "needs_background": "light"
     },
     "output_type": "display_data"
    }
   ],
   "source": [
    "sns.boxplot(df['Age'])\n",
    "plt.title('Boxplot Outlier in Age')\n",
    "plt.show()"
   ]
  },
  {
   "cell_type": "code",
   "execution_count": 37,
   "id": "e5bc1a9f",
   "metadata": {},
   "outputs": [
    {
     "data": {
      "text/html": [
       "<div>\n",
       "<style scoped>\n",
       "    .dataframe tbody tr th:only-of-type {\n",
       "        vertical-align: middle;\n",
       "    }\n",
       "\n",
       "    .dataframe tbody tr th {\n",
       "        vertical-align: top;\n",
       "    }\n",
       "\n",
       "    .dataframe thead th {\n",
       "        text-align: right;\n",
       "    }\n",
       "</style>\n",
       "<table border=\"1\" class=\"dataframe\">\n",
       "  <thead>\n",
       "    <tr style=\"text-align: right;\">\n",
       "      <th></th>\n",
       "      <th>Agency</th>\n",
       "      <th>Agency Type</th>\n",
       "      <th>Distribution Channel</th>\n",
       "      <th>Product Name</th>\n",
       "      <th>Duration</th>\n",
       "      <th>Destination</th>\n",
       "      <th>Net Sales</th>\n",
       "      <th>Commision (in value)</th>\n",
       "      <th>Age</th>\n",
       "      <th>Claim</th>\n",
       "    </tr>\n",
       "  </thead>\n",
       "  <tbody>\n",
       "    <tr>\n",
       "      <th>5398</th>\n",
       "      <td>Others</td>\n",
       "      <td>Airlines</td>\n",
       "      <td>Online</td>\n",
       "      <td>Others</td>\n",
       "      <td>25</td>\n",
       "      <td>Others</td>\n",
       "      <td>78.0</td>\n",
       "      <td>31.20</td>\n",
       "      <td>118</td>\n",
       "      <td>1</td>\n",
       "    </tr>\n",
       "    <tr>\n",
       "      <th>11377</th>\n",
       "      <td>EPX</td>\n",
       "      <td>Travel Agency</td>\n",
       "      <td>Offline</td>\n",
       "      <td>2 way Comprehensive Plan</td>\n",
       "      <td>20</td>\n",
       "      <td>Others</td>\n",
       "      <td>37.0</td>\n",
       "      <td>0.00</td>\n",
       "      <td>118</td>\n",
       "      <td>1</td>\n",
       "    </tr>\n",
       "    <tr>\n",
       "      <th>15158</th>\n",
       "      <td>EPX</td>\n",
       "      <td>Travel Agency</td>\n",
       "      <td>Offline</td>\n",
       "      <td>Others</td>\n",
       "      <td>18</td>\n",
       "      <td>Others</td>\n",
       "      <td>33.0</td>\n",
       "      <td>0.00</td>\n",
       "      <td>118</td>\n",
       "      <td>1</td>\n",
       "    </tr>\n",
       "    <tr>\n",
       "      <th>24732</th>\n",
       "      <td>Others</td>\n",
       "      <td>Airlines</td>\n",
       "      <td>Online</td>\n",
       "      <td>Others</td>\n",
       "      <td>81</td>\n",
       "      <td>Others</td>\n",
       "      <td>124.0</td>\n",
       "      <td>49.60</td>\n",
       "      <td>118</td>\n",
       "      <td>1</td>\n",
       "    </tr>\n",
       "    <tr>\n",
       "      <th>32456</th>\n",
       "      <td>Others</td>\n",
       "      <td>Travel Agency</td>\n",
       "      <td>Offline</td>\n",
       "      <td>Others</td>\n",
       "      <td>15</td>\n",
       "      <td>Others</td>\n",
       "      <td>29.0</td>\n",
       "      <td>9.57</td>\n",
       "      <td>118</td>\n",
       "      <td>1</td>\n",
       "    </tr>\n",
       "    <tr>\n",
       "      <th>35061</th>\n",
       "      <td>Others</td>\n",
       "      <td>Airlines</td>\n",
       "      <td>Online</td>\n",
       "      <td>Others</td>\n",
       "      <td>51</td>\n",
       "      <td>Others</td>\n",
       "      <td>78.0</td>\n",
       "      <td>31.20</td>\n",
       "      <td>118</td>\n",
       "      <td>1</td>\n",
       "    </tr>\n",
       "    <tr>\n",
       "      <th>43856</th>\n",
       "      <td>Others</td>\n",
       "      <td>Airlines</td>\n",
       "      <td>Online</td>\n",
       "      <td>Others</td>\n",
       "      <td>10</td>\n",
       "      <td>Others</td>\n",
       "      <td>50.0</td>\n",
       "      <td>20.00</td>\n",
       "      <td>118</td>\n",
       "      <td>1</td>\n",
       "    </tr>\n",
       "  </tbody>\n",
       "</table>\n",
       "</div>"
      ],
      "text/plain": [
       "       Agency    Agency Type Distribution Channel              Product Name  \\\n",
       "5398   Others       Airlines               Online                    Others   \n",
       "11377     EPX  Travel Agency              Offline  2 way Comprehensive Plan   \n",
       "15158     EPX  Travel Agency              Offline                    Others   \n",
       "24732  Others       Airlines               Online                    Others   \n",
       "32456  Others  Travel Agency              Offline                    Others   \n",
       "35061  Others       Airlines               Online                    Others   \n",
       "43856  Others       Airlines               Online                    Others   \n",
       "\n",
       "       Duration Destination  Net Sales  Commision (in value)  Age  Claim  \n",
       "5398         25      Others       78.0                 31.20  118      1  \n",
       "11377        20      Others       37.0                  0.00  118      1  \n",
       "15158        18      Others       33.0                  0.00  118      1  \n",
       "24732        81      Others      124.0                 49.60  118      1  \n",
       "32456        15      Others       29.0                  9.57  118      1  \n",
       "35061        51      Others       78.0                 31.20  118      1  \n",
       "43856        10      Others       50.0                 20.00  118      1  "
      ]
     },
     "execution_count": 37,
     "metadata": {},
     "output_type": "execute_result"
    }
   ],
   "source": [
    "df[(df['Age']>100) & (df['Claim']==1)]"
   ]
  },
  {
   "cell_type": "markdown",
   "id": "04f7c673",
   "metadata": {},
   "source": [
    "Walaupun data `Age` yang lebih dari 100 terdeteksi sebagai outliers, tapi akan tetap digunakan karena 'Claim' nya kelas 1"
   ]
  },
  {
   "cell_type": "code",
   "execution_count": 38,
   "id": "cf3efd9f",
   "metadata": {},
   "outputs": [
    {
     "data": {
      "text/plain": [
       "(43832, 10)"
      ]
     },
     "execution_count": 38,
     "metadata": {},
     "output_type": "execute_result"
    }
   ],
   "source": [
    "df.shape"
   ]
  },
  {
   "cell_type": "markdown",
   "id": "b50da21f",
   "metadata": {},
   "source": [
    "Data asal terdiri dari 44328 baris dan 11 kolom lalu tereduksi menjadi 43832 baris dan 10 kolom setelah drop nan dan outliers yang tidak perlu diikutkan dalam training model"
   ]
  },
  {
   "cell_type": "code",
   "execution_count": 39,
   "id": "5b7476c7",
   "metadata": {
    "scrolled": false
   },
   "outputs": [
    {
     "data": {
      "text/html": [
       "<div>\n",
       "<style scoped>\n",
       "    .dataframe tbody tr th:only-of-type {\n",
       "        vertical-align: middle;\n",
       "    }\n",
       "\n",
       "    .dataframe tbody tr th {\n",
       "        vertical-align: top;\n",
       "    }\n",
       "\n",
       "    .dataframe thead th {\n",
       "        text-align: right;\n",
       "    }\n",
       "</style>\n",
       "<table border=\"1\" class=\"dataframe\">\n",
       "  <thead>\n",
       "    <tr style=\"text-align: right;\">\n",
       "      <th></th>\n",
       "      <th>Data Features</th>\n",
       "      <th>Data Types</th>\n",
       "      <th>Null</th>\n",
       "      <th>Null Percentage</th>\n",
       "      <th>Unique</th>\n",
       "      <th>Unique Sample</th>\n",
       "    </tr>\n",
       "  </thead>\n",
       "  <tbody>\n",
       "    <tr>\n",
       "      <th>0</th>\n",
       "      <td>Agency</td>\n",
       "      <td>object</td>\n",
       "      <td>0</td>\n",
       "      <td>0.0</td>\n",
       "      <td>4</td>\n",
       "      <td>[EPX, CWT]</td>\n",
       "    </tr>\n",
       "    <tr>\n",
       "      <th>1</th>\n",
       "      <td>Agency Type</td>\n",
       "      <td>object</td>\n",
       "      <td>0</td>\n",
       "      <td>0.0</td>\n",
       "      <td>2</td>\n",
       "      <td>[Airlines, Travel Agency]</td>\n",
       "    </tr>\n",
       "    <tr>\n",
       "      <th>2</th>\n",
       "      <td>Distribution Channel</td>\n",
       "      <td>object</td>\n",
       "      <td>0</td>\n",
       "      <td>0.0</td>\n",
       "      <td>2</td>\n",
       "      <td>[Offline, Online]</td>\n",
       "    </tr>\n",
       "    <tr>\n",
       "      <th>3</th>\n",
       "      <td>Product Name</td>\n",
       "      <td>object</td>\n",
       "      <td>0</td>\n",
       "      <td>0.0</td>\n",
       "      <td>6</td>\n",
       "      <td>[Rental Vehicle Excess Insurance, Others]</td>\n",
       "    </tr>\n",
       "    <tr>\n",
       "      <th>4</th>\n",
       "      <td>Duration</td>\n",
       "      <td>int64</td>\n",
       "      <td>0</td>\n",
       "      <td>0.0</td>\n",
       "      <td>423</td>\n",
       "      <td>[94, 220]</td>\n",
       "    </tr>\n",
       "    <tr>\n",
       "      <th>5</th>\n",
       "      <td>Destination</td>\n",
       "      <td>object</td>\n",
       "      <td>0</td>\n",
       "      <td>0.0</td>\n",
       "      <td>2</td>\n",
       "      <td>[Others, SINGAPORE]</td>\n",
       "    </tr>\n",
       "    <tr>\n",
       "      <th>6</th>\n",
       "      <td>Net Sales</td>\n",
       "      <td>float64</td>\n",
       "      <td>0</td>\n",
       "      <td>0.0</td>\n",
       "      <td>884</td>\n",
       "      <td>[287.0, 58.1]</td>\n",
       "    </tr>\n",
       "    <tr>\n",
       "      <th>7</th>\n",
       "      <td>Commision (in value)</td>\n",
       "      <td>float64</td>\n",
       "      <td>0</td>\n",
       "      <td>0.0</td>\n",
       "      <td>912</td>\n",
       "      <td>[72.0, 20.28]</td>\n",
       "    </tr>\n",
       "    <tr>\n",
       "      <th>8</th>\n",
       "      <td>Age</td>\n",
       "      <td>int64</td>\n",
       "      <td>0</td>\n",
       "      <td>0.0</td>\n",
       "      <td>89</td>\n",
       "      <td>[14, 86]</td>\n",
       "    </tr>\n",
       "    <tr>\n",
       "      <th>9</th>\n",
       "      <td>Claim</td>\n",
       "      <td>int64</td>\n",
       "      <td>0</td>\n",
       "      <td>0.0</td>\n",
       "      <td>2</td>\n",
       "      <td>[0, 1]</td>\n",
       "    </tr>\n",
       "  </tbody>\n",
       "</table>\n",
       "</div>"
      ],
      "text/plain": [
       "          Data Features Data Types  Null  Null Percentage  Unique  \\\n",
       "0                Agency     object     0              0.0       4   \n",
       "1           Agency Type     object     0              0.0       2   \n",
       "2  Distribution Channel     object     0              0.0       2   \n",
       "3          Product Name     object     0              0.0       6   \n",
       "4              Duration      int64     0              0.0     423   \n",
       "5           Destination     object     0              0.0       2   \n",
       "6             Net Sales    float64     0              0.0     884   \n",
       "7  Commision (in value)    float64     0              0.0     912   \n",
       "8                   Age      int64     0              0.0      89   \n",
       "9                 Claim      int64     0              0.0       2   \n",
       "\n",
       "                               Unique Sample  \n",
       "0                                 [EPX, CWT]  \n",
       "1                  [Airlines, Travel Agency]  \n",
       "2                          [Offline, Online]  \n",
       "3  [Rental Vehicle Excess Insurance, Others]  \n",
       "4                                  [94, 220]  \n",
       "5                        [Others, SINGAPORE]  \n",
       "6                              [287.0, 58.1]  \n",
       "7                              [72.0, 20.28]  \n",
       "8                                   [14, 86]  \n",
       "9                                     [0, 1]  "
      ]
     },
     "execution_count": 39,
     "metadata": {},
     "output_type": "execute_result"
    }
   ],
   "source": [
    "dataDesc=[]\n",
    "for i in df.columns:\n",
    "    dataDesc.append([\n",
    "        i,\n",
    "        df[i].dtypes,\n",
    "        df[i].isna().sum(),\n",
    "        round((((df[i].isna().sum())/len(df))*100),2),\n",
    "        df[i].nunique(),\n",
    "        df[i].drop_duplicates().sample(2).values\n",
    "    ])\n",
    "\n",
    "pd.DataFrame(dataDesc, columns=[\n",
    "    'Data Features',\n",
    "    'Data Types',\n",
    "    'Null',\n",
    "    'Null Percentage',\n",
    "    'Unique',\n",
    "    'Unique Sample'\n",
    "])"
   ]
  },
  {
   "cell_type": "markdown",
   "id": "72d64c39",
   "metadata": {},
   "source": [
    "Simpan data yang telah dibersihkan nan value dan diperbarui kolom kategorinya ke dalam file baru berformat csv"
   ]
  },
  {
   "cell_type": "code",
   "execution_count": 40,
   "id": "2d4f9d98",
   "metadata": {},
   "outputs": [],
   "source": [
    "df.to_csv('train.csv', index=False)"
   ]
  },
  {
   "cell_type": "code",
   "execution_count": 41,
   "id": "b71a1bfe",
   "metadata": {},
   "outputs": [
    {
     "data": {
      "text/html": [
       "<div>\n",
       "<style scoped>\n",
       "    .dataframe tbody tr th:only-of-type {\n",
       "        vertical-align: middle;\n",
       "    }\n",
       "\n",
       "    .dataframe tbody tr th {\n",
       "        vertical-align: top;\n",
       "    }\n",
       "\n",
       "    .dataframe thead th {\n",
       "        text-align: right;\n",
       "    }\n",
       "</style>\n",
       "<table border=\"1\" class=\"dataframe\">\n",
       "  <thead>\n",
       "    <tr style=\"text-align: right;\">\n",
       "      <th></th>\n",
       "      <th>Agency</th>\n",
       "      <th>Agency Type</th>\n",
       "      <th>Distribution Channel</th>\n",
       "      <th>Product Name</th>\n",
       "      <th>Duration</th>\n",
       "      <th>Destination</th>\n",
       "      <th>Net Sales</th>\n",
       "      <th>Commision (in value)</th>\n",
       "      <th>Age</th>\n",
       "      <th>Claim</th>\n",
       "    </tr>\n",
       "  </thead>\n",
       "  <tbody>\n",
       "    <tr>\n",
       "      <th>0</th>\n",
       "      <td>C2B</td>\n",
       "      <td>Airlines</td>\n",
       "      <td>Online</td>\n",
       "      <td>Annual Silver Plan</td>\n",
       "      <td>365</td>\n",
       "      <td>SINGAPORE</td>\n",
       "      <td>216.0</td>\n",
       "      <td>54.0</td>\n",
       "      <td>57</td>\n",
       "      <td>0</td>\n",
       "    </tr>\n",
       "    <tr>\n",
       "      <th>1</th>\n",
       "      <td>EPX</td>\n",
       "      <td>Travel Agency</td>\n",
       "      <td>Online</td>\n",
       "      <td>Others</td>\n",
       "      <td>4</td>\n",
       "      <td>Others</td>\n",
       "      <td>10.0</td>\n",
       "      <td>0.0</td>\n",
       "      <td>33</td>\n",
       "      <td>0</td>\n",
       "    </tr>\n",
       "    <tr>\n",
       "      <th>2</th>\n",
       "      <td>Others</td>\n",
       "      <td>Airlines</td>\n",
       "      <td>Online</td>\n",
       "      <td>Others</td>\n",
       "      <td>19</td>\n",
       "      <td>Others</td>\n",
       "      <td>22.0</td>\n",
       "      <td>7.7</td>\n",
       "      <td>26</td>\n",
       "      <td>0</td>\n",
       "    </tr>\n",
       "    <tr>\n",
       "      <th>3</th>\n",
       "      <td>EPX</td>\n",
       "      <td>Travel Agency</td>\n",
       "      <td>Online</td>\n",
       "      <td>2 way Comprehensive Plan</td>\n",
       "      <td>20</td>\n",
       "      <td>Others</td>\n",
       "      <td>112.0</td>\n",
       "      <td>0.0</td>\n",
       "      <td>59</td>\n",
       "      <td>0</td>\n",
       "    </tr>\n",
       "    <tr>\n",
       "      <th>4</th>\n",
       "      <td>C2B</td>\n",
       "      <td>Airlines</td>\n",
       "      <td>Online</td>\n",
       "      <td>Bronze Plan</td>\n",
       "      <td>8</td>\n",
       "      <td>SINGAPORE</td>\n",
       "      <td>16.0</td>\n",
       "      <td>4.0</td>\n",
       "      <td>28</td>\n",
       "      <td>0</td>\n",
       "    </tr>\n",
       "  </tbody>\n",
       "</table>\n",
       "</div>"
      ],
      "text/plain": [
       "   Agency    Agency Type Distribution Channel              Product Name  \\\n",
       "0     C2B       Airlines               Online        Annual Silver Plan   \n",
       "1     EPX  Travel Agency               Online                    Others   \n",
       "2  Others       Airlines               Online                    Others   \n",
       "3     EPX  Travel Agency               Online  2 way Comprehensive Plan   \n",
       "4     C2B       Airlines               Online               Bronze Plan   \n",
       "\n",
       "   Duration Destination  Net Sales  Commision (in value)  Age  Claim  \n",
       "0       365   SINGAPORE      216.0                  54.0   57      0  \n",
       "1         4      Others       10.0                   0.0   33      0  \n",
       "2        19      Others       22.0                   7.7   26      0  \n",
       "3        20      Others      112.0                   0.0   59      0  \n",
       "4         8   SINGAPORE       16.0                   4.0   28      0  "
      ]
     },
     "execution_count": 41,
     "metadata": {},
     "output_type": "execute_result"
    }
   ],
   "source": [
    "df.head()"
   ]
  }
 ],
 "metadata": {
  "kernelspec": {
   "display_name": "Python 3 (ipykernel)",
   "language": "python",
   "name": "python3"
  },
  "language_info": {
   "codemirror_mode": {
    "name": "ipython",
    "version": 3
   },
   "file_extension": ".py",
   "mimetype": "text/x-python",
   "name": "python",
   "nbconvert_exporter": "python",
   "pygments_lexer": "ipython3",
   "version": "3.9.7"
  },
  "vscode": {
   "interpreter": {
    "hash": "932fd60c33a126e920159be4d89d63cc2534bbbc6a69fcdd48196d0c7c831828"
   }
  }
 },
 "nbformat": 4,
 "nbformat_minor": 5
}
